{
 "cells": [
  {
   "cell_type": "code",
   "execution_count": null,
   "id": "6a073da7",
   "metadata": {},
   "outputs": [
    {
     "name": "stdout",
     "output_type": "stream",
     "text": [
      "105\n"
     ]
    }
   ],
   "source": [
    "x = lambda a :a+100\n",
    "print(x(5))\n",
    "\n"
   ]
  },
  {
   "cell_type": "code",
   "execution_count": null,
   "id": "c3b160c7",
   "metadata": {},
   "outputs": [
    {
     "name": "stdout",
     "output_type": "stream",
     "text": [
      "30\n",
      "120\n",
      "502\n"
     ]
    }
   ],
   "source": [
    "y = lambda x, y : x+y\n",
    "print(y(10,20))\n",
    "z = lambda x1,y1,z1 : x1+y1+z1\n",
    "print(z(50,30,40))\n",
    "\n",
    "a = lambda a1 :a1+500\n",
    "print(a(2))\n",
    "\n"
   ]
  },
  {
   "cell_type": "code",
   "execution_count": null,
   "id": "f90485c6",
   "metadata": {},
   "outputs": [
    {
     "name": "stdout",
     "output_type": "stream",
     "text": [
      "200\n",
      "600\n"
     ]
    }
   ],
   "source": [
    "def fun(n):\n",
    "    return lambda a: a*n\n",
    "mydouble = fun(20)\n",
    "mydouble2 =fun(20)\n",
    "print(mydouble(10))\n",
    "print(mydouble2(30))"
   ]
  },
  {
   "cell_type": "code",
   "execution_count": null,
   "id": "490e8bf0",
   "metadata": {},
   "outputs": [
    {
     "name": "stdout",
     "output_type": "stream",
     "text": [
      "200\n"
     ]
    }
   ],
   "source": [
    "def multi(n,m):\n",
    "    return lambda z :n*m\n",
    "myresult = multi(20,10)\n",
    "print(myresult(z))"
   ]
  },
  {
   "cell_type": "code",
   "execution_count": null,
   "id": "899dfbe0",
   "metadata": {},
   "outputs": [
    {
     "name": "stdout",
     "output_type": "stream",
     "text": [
      "30\n"
     ]
    }
   ],
   "source": [
    "x= lambda a ,b :a+b\n",
    "print(x(10,20))"
   ]
  }
 ],
 "metadata": {
  "kernelspec": {
   "display_name": "venv",
   "language": "python",
   "name": "python3"
  },
  "language_info": {
   "codemirror_mode": {
    "name": "ipython",
    "version": 3
   },
   "file_extension": ".py",
   "mimetype": "text/x-python",
   "name": "python",
   "nbconvert_exporter": "python",
   "pygments_lexer": "ipython3",
   "version": "3.13.2"
  }
 },
 "nbformat": 4,
 "nbformat_minor": 5
}
