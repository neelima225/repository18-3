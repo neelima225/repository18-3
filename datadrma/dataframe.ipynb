{
 "cells": [
  {
   "cell_type": "code",
   "execution_count": 1,
   "id": "c1206dbf",
   "metadata": {},
   "outputs": [],
   "source": [
    "profile = {\n",
    "    \"name\" : [\"kavita\",\"rohini\"],\n",
    "    \"roll_no\":[\"101\",\"102\"]\n",
    "}"
   ]
  },
  {
   "cell_type": "code",
   "execution_count": 2,
   "id": "73d57db3",
   "metadata": {},
   "outputs": [
    {
     "data": {
      "text/plain": [
       "dict"
      ]
     },
     "execution_count": 2,
     "metadata": {},
     "output_type": "execute_result"
    }
   ],
   "source": [
    "type(profile)"
   ]
  },
  {
   "cell_type": "code",
   "execution_count": 3,
   "id": "051b55eb",
   "metadata": {},
   "outputs": [],
   "source": [
    "import pandas as pd"
   ]
  },
  {
   "cell_type": "code",
   "execution_count": 4,
   "id": "5719d445",
   "metadata": {},
   "outputs": [],
   "source": [
    "data = pd.DataFrame(profile)"
   ]
  },
  {
   "cell_type": "code",
   "execution_count": 5,
   "id": "d2d72ae4",
   "metadata": {},
   "outputs": [
    {
     "data": {
      "text/html": [
       "<div>\n",
       "<style scoped>\n",
       "    .dataframe tbody tr th:only-of-type {\n",
       "        vertical-align: middle;\n",
       "    }\n",
       "\n",
       "    .dataframe tbody tr th {\n",
       "        vertical-align: top;\n",
       "    }\n",
       "\n",
       "    .dataframe thead th {\n",
       "        text-align: right;\n",
       "    }\n",
       "</style>\n",
       "<table border=\"1\" class=\"dataframe\">\n",
       "  <thead>\n",
       "    <tr style=\"text-align: right;\">\n",
       "      <th></th>\n",
       "      <th>name</th>\n",
       "      <th>roll_no</th>\n",
       "    </tr>\n",
       "  </thead>\n",
       "  <tbody>\n",
       "    <tr>\n",
       "      <th>0</th>\n",
       "      <td>kavita</td>\n",
       "      <td>101</td>\n",
       "    </tr>\n",
       "    <tr>\n",
       "      <th>1</th>\n",
       "      <td>rohini</td>\n",
       "      <td>102</td>\n",
       "    </tr>\n",
       "  </tbody>\n",
       "</table>\n",
       "</div>"
      ],
      "text/plain": [
       "     name roll_no\n",
       "0  kavita     101\n",
       "1  rohini     102"
      ]
     },
     "execution_count": 5,
     "metadata": {},
     "output_type": "execute_result"
    }
   ],
   "source": [
    "data"
   ]
  },
  {
   "cell_type": "code",
   "execution_count": 6,
   "id": "caa65ecd",
   "metadata": {},
   "outputs": [],
   "source": [
    "row =[\"r1\",\"r2\"]"
   ]
  },
  {
   "cell_type": "code",
   "execution_count": 7,
   "id": "d4625eb9",
   "metadata": {},
   "outputs": [],
   "source": [
    "data2 = pd .DataFrame(profile,row)"
   ]
  },
  {
   "cell_type": "code",
   "execution_count": 8,
   "id": "92fddd60",
   "metadata": {},
   "outputs": [
    {
     "data": {
      "text/html": [
       "<div>\n",
       "<style scoped>\n",
       "    .dataframe tbody tr th:only-of-type {\n",
       "        vertical-align: middle;\n",
       "    }\n",
       "\n",
       "    .dataframe tbody tr th {\n",
       "        vertical-align: top;\n",
       "    }\n",
       "\n",
       "    .dataframe thead th {\n",
       "        text-align: right;\n",
       "    }\n",
       "</style>\n",
       "<table border=\"1\" class=\"dataframe\">\n",
       "  <thead>\n",
       "    <tr style=\"text-align: right;\">\n",
       "      <th></th>\n",
       "      <th>name</th>\n",
       "      <th>roll_no</th>\n",
       "    </tr>\n",
       "  </thead>\n",
       "  <tbody>\n",
       "    <tr>\n",
       "      <th>r1</th>\n",
       "      <td>kavita</td>\n",
       "      <td>101</td>\n",
       "    </tr>\n",
       "    <tr>\n",
       "      <th>r2</th>\n",
       "      <td>rohini</td>\n",
       "      <td>102</td>\n",
       "    </tr>\n",
       "  </tbody>\n",
       "</table>\n",
       "</div>"
      ],
      "text/plain": [
       "      name roll_no\n",
       "r1  kavita     101\n",
       "r2  rohini     102"
      ]
     },
     "execution_count": 8,
     "metadata": {},
     "output_type": "execute_result"
    }
   ],
   "source": [
    "data2"
   ]
  },
  {
   "cell_type": "code",
   "execution_count": 9,
   "id": "b20a7daa",
   "metadata": {},
   "outputs": [
    {
     "data": {
      "text/plain": [
       "Index(['name', 'roll_no'], dtype='object')"
      ]
     },
     "execution_count": 9,
     "metadata": {},
     "output_type": "execute_result"
    }
   ],
   "source": [
    "data2.columns"
   ]
  },
  {
   "cell_type": "code",
   "execution_count": 10,
   "id": "ec3556a6",
   "metadata": {},
   "outputs": [
    {
     "data": {
      "text/plain": [
       "(2, 2)"
      ]
     },
     "execution_count": 10,
     "metadata": {},
     "output_type": "execute_result"
    }
   ],
   "source": [
    "data2.shape"
   ]
  },
  {
   "cell_type": "code",
   "execution_count": 11,
   "id": "31767c19",
   "metadata": {},
   "outputs": [
    {
     "name": "stdout",
     "output_type": "stream",
     "text": [
      "D:\\python_notes2\\theroy\\tips.csv\n"
     ]
    }
   ],
   "source": [
    "path = r\"D:\\python_notes2\\theroy\\tips.csv\"\n",
    "print(path)"
   ]
  },
  {
   "cell_type": "code",
   "execution_count": 12,
   "id": "cf6aec97",
   "metadata": {},
   "outputs": [],
   "source": [
    "import pandas as pd"
   ]
  },
  {
   "cell_type": "code",
   "execution_count": 13,
   "id": "aba2e93e",
   "metadata": {},
   "outputs": [
    {
     "data": {
      "text/html": [
       "<div>\n",
       "<style scoped>\n",
       "    .dataframe tbody tr th:only-of-type {\n",
       "        vertical-align: middle;\n",
       "    }\n",
       "\n",
       "    .dataframe tbody tr th {\n",
       "        vertical-align: top;\n",
       "    }\n",
       "\n",
       "    .dataframe thead th {\n",
       "        text-align: right;\n",
       "    }\n",
       "</style>\n",
       "<table border=\"1\" class=\"dataframe\">\n",
       "  <thead>\n",
       "    <tr style=\"text-align: right;\">\n",
       "      <th></th>\n",
       "      <th>total_bill</th>\n",
       "      <th>tip</th>\n",
       "      <th>sex</th>\n",
       "      <th>smoker</th>\n",
       "      <th>day</th>\n",
       "      <th>time</th>\n",
       "      <th>size</th>\n",
       "    </tr>\n",
       "  </thead>\n",
       "  <tbody>\n",
       "    <tr>\n",
       "      <th>0</th>\n",
       "      <td>16.99</td>\n",
       "      <td>1.01</td>\n",
       "      <td>Female</td>\n",
       "      <td>No</td>\n",
       "      <td>Sun</td>\n",
       "      <td>Dinner</td>\n",
       "      <td>2</td>\n",
       "    </tr>\n",
       "    <tr>\n",
       "      <th>1</th>\n",
       "      <td>10.34</td>\n",
       "      <td>1.66</td>\n",
       "      <td>Male</td>\n",
       "      <td>No</td>\n",
       "      <td>Sun</td>\n",
       "      <td>Dinner</td>\n",
       "      <td>3</td>\n",
       "    </tr>\n",
       "    <tr>\n",
       "      <th>2</th>\n",
       "      <td>21.01</td>\n",
       "      <td>3.50</td>\n",
       "      <td>Male</td>\n",
       "      <td>No</td>\n",
       "      <td>Sun</td>\n",
       "      <td>Dinner</td>\n",
       "      <td>3</td>\n",
       "    </tr>\n",
       "    <tr>\n",
       "      <th>3</th>\n",
       "      <td>23.68</td>\n",
       "      <td>3.31</td>\n",
       "      <td>Male</td>\n",
       "      <td>No</td>\n",
       "      <td>Sun</td>\n",
       "      <td>Dinner</td>\n",
       "      <td>2</td>\n",
       "    </tr>\n",
       "    <tr>\n",
       "      <th>4</th>\n",
       "      <td>24.59</td>\n",
       "      <td>3.61</td>\n",
       "      <td>Female</td>\n",
       "      <td>No</td>\n",
       "      <td>Sun</td>\n",
       "      <td>Dinner</td>\n",
       "      <td>4</td>\n",
       "    </tr>\n",
       "    <tr>\n",
       "      <th>...</th>\n",
       "      <td>...</td>\n",
       "      <td>...</td>\n",
       "      <td>...</td>\n",
       "      <td>...</td>\n",
       "      <td>...</td>\n",
       "      <td>...</td>\n",
       "      <td>...</td>\n",
       "    </tr>\n",
       "    <tr>\n",
       "      <th>239</th>\n",
       "      <td>29.03</td>\n",
       "      <td>5.92</td>\n",
       "      <td>Male</td>\n",
       "      <td>No</td>\n",
       "      <td>Sat</td>\n",
       "      <td>Dinner</td>\n",
       "      <td>3</td>\n",
       "    </tr>\n",
       "    <tr>\n",
       "      <th>240</th>\n",
       "      <td>27.18</td>\n",
       "      <td>2.00</td>\n",
       "      <td>Female</td>\n",
       "      <td>Yes</td>\n",
       "      <td>Sat</td>\n",
       "      <td>Dinner</td>\n",
       "      <td>2</td>\n",
       "    </tr>\n",
       "    <tr>\n",
       "      <th>241</th>\n",
       "      <td>22.67</td>\n",
       "      <td>2.00</td>\n",
       "      <td>Male</td>\n",
       "      <td>Yes</td>\n",
       "      <td>Sat</td>\n",
       "      <td>Dinner</td>\n",
       "      <td>2</td>\n",
       "    </tr>\n",
       "    <tr>\n",
       "      <th>242</th>\n",
       "      <td>17.82</td>\n",
       "      <td>1.75</td>\n",
       "      <td>Male</td>\n",
       "      <td>No</td>\n",
       "      <td>Sat</td>\n",
       "      <td>Dinner</td>\n",
       "      <td>2</td>\n",
       "    </tr>\n",
       "    <tr>\n",
       "      <th>243</th>\n",
       "      <td>18.78</td>\n",
       "      <td>3.00</td>\n",
       "      <td>Female</td>\n",
       "      <td>No</td>\n",
       "      <td>Thur</td>\n",
       "      <td>Dinner</td>\n",
       "      <td>2</td>\n",
       "    </tr>\n",
       "  </tbody>\n",
       "</table>\n",
       "<p>244 rows × 7 columns</p>\n",
       "</div>"
      ],
      "text/plain": [
       "     total_bill   tip     sex smoker   day    time  size\n",
       "0         16.99  1.01  Female     No   Sun  Dinner     2\n",
       "1         10.34  1.66    Male     No   Sun  Dinner     3\n",
       "2         21.01  3.50    Male     No   Sun  Dinner     3\n",
       "3         23.68  3.31    Male     No   Sun  Dinner     2\n",
       "4         24.59  3.61  Female     No   Sun  Dinner     4\n",
       "..          ...   ...     ...    ...   ...     ...   ...\n",
       "239       29.03  5.92    Male     No   Sat  Dinner     3\n",
       "240       27.18  2.00  Female    Yes   Sat  Dinner     2\n",
       "241       22.67  2.00    Male    Yes   Sat  Dinner     2\n",
       "242       17.82  1.75    Male     No   Sat  Dinner     2\n",
       "243       18.78  3.00  Female     No  Thur  Dinner     2\n",
       "\n",
       "[244 rows x 7 columns]"
      ]
     },
     "execution_count": 13,
     "metadata": {},
     "output_type": "execute_result"
    }
   ],
   "source": [
    "data = pd.read_csv(path)\n",
    "data"
   ]
  },
  {
   "cell_type": "code",
   "execution_count": 14,
   "id": "28298752",
   "metadata": {},
   "outputs": [
    {
     "data": {
      "text/plain": [
       "Index(['total_bill', 'tip', 'sex', 'smoker', 'day', 'time', 'size'], dtype='object')"
      ]
     },
     "execution_count": 14,
     "metadata": {},
     "output_type": "execute_result"
    }
   ],
   "source": [
    "data.columns"
   ]
  },
  {
   "cell_type": "code",
   "execution_count": 15,
   "id": "a80ccf79",
   "metadata": {},
   "outputs": [
    {
     "data": {
      "text/plain": [
       "(244, 7)"
      ]
     },
     "execution_count": 15,
     "metadata": {},
     "output_type": "execute_result"
    }
   ],
   "source": [
    "data.shape"
   ]
  },
  {
   "cell_type": "code",
   "execution_count": 16,
   "id": "406a567d",
   "metadata": {},
   "outputs": [
    {
     "name": "stdout",
     "output_type": "stream",
     "text": [
      "<class 'pandas.core.frame.DataFrame'>\n",
      "RangeIndex: 244 entries, 0 to 243\n",
      "Data columns (total 7 columns):\n",
      " #   Column      Non-Null Count  Dtype  \n",
      "---  ------      --------------  -----  \n",
      " 0   total_bill  244 non-null    float64\n",
      " 1   tip         244 non-null    float64\n",
      " 2   sex         244 non-null    object \n",
      " 3   smoker      244 non-null    object \n",
      " 4   day         244 non-null    object \n",
      " 5   time        244 non-null    object \n",
      " 6   size        244 non-null    int64  \n",
      "dtypes: float64(2), int64(1), object(4)\n",
      "memory usage: 13.5+ KB\n"
     ]
    }
   ],
   "source": [
    "data.info()"
   ]
  },
  {
   "cell_type": "code",
   "execution_count": 17,
   "id": "390cd3da",
   "metadata": {},
   "outputs": [
    {
     "data": {
      "text/plain": [
       "array([[16.99, 1.01, 'Female', ..., 'Sun', 'Dinner', 2],\n",
       "       [10.34, 1.66, 'Male', ..., 'Sun', 'Dinner', 3],\n",
       "       [21.01, 3.5, 'Male', ..., 'Sun', 'Dinner', 3],\n",
       "       ...,\n",
       "       [22.67, 2.0, 'Male', ..., 'Sat', 'Dinner', 2],\n",
       "       [17.82, 1.75, 'Male', ..., 'Sat', 'Dinner', 2],\n",
       "       [18.78, 3.0, 'Female', ..., 'Thur', 'Dinner', 2]],\n",
       "      shape=(244, 7), dtype=object)"
      ]
     },
     "execution_count": 17,
     "metadata": {},
     "output_type": "execute_result"
    }
   ],
   "source": [
    "data.values"
   ]
  },
  {
   "cell_type": "code",
   "execution_count": 18,
   "id": "43999c64",
   "metadata": {},
   "outputs": [
    {
     "data": {
      "text/plain": [
       "RangeIndex(start=0, stop=244, step=1)"
      ]
     },
     "execution_count": 18,
     "metadata": {},
     "output_type": "execute_result"
    }
   ],
   "source": [
    "data.index"
   ]
  },
  {
   "cell_type": "code",
   "execution_count": 19,
   "id": "507ada39",
   "metadata": {},
   "outputs": [
    {
     "data": {
      "text/plain": [
       "total_bill    float64\n",
       "tip           float64\n",
       "sex            object\n",
       "smoker         object\n",
       "day            object\n",
       "time           object\n",
       "size            int64\n",
       "dtype: object"
      ]
     },
     "execution_count": 19,
     "metadata": {},
     "output_type": "execute_result"
    }
   ],
   "source": [
    "data.dtypes"
   ]
  },
  {
   "cell_type": "code",
   "execution_count": 20,
   "id": "630e9d17",
   "metadata": {},
   "outputs": [
    {
     "data": {
      "text/plain": [
       "Index(['total_bill', 'tip', 'sex', 'smoker', 'day', 'time', 'size'], dtype='object')"
      ]
     },
     "execution_count": 20,
     "metadata": {},
     "output_type": "execute_result"
    }
   ],
   "source": [
    "data.columns"
   ]
  },
  {
   "cell_type": "code",
   "execution_count": 21,
   "id": "33d79285",
   "metadata": {},
   "outputs": [
    {
     "data": {
      "text/plain": [
       "0       Sun\n",
       "1       Sun\n",
       "2       Sun\n",
       "3       Sun\n",
       "4       Sun\n",
       "       ... \n",
       "239     Sat\n",
       "240     Sat\n",
       "241     Sat\n",
       "242     Sat\n",
       "243    Thur\n",
       "Name: day, Length: 244, dtype: object"
      ]
     },
     "execution_count": 21,
     "metadata": {},
     "output_type": "execute_result"
    }
   ],
   "source": [
    "data[\"day\"]"
   ]
  },
  {
   "cell_type": "code",
   "execution_count": 22,
   "id": "29133cfc",
   "metadata": {},
   "outputs": [
    {
     "data": {
      "text/plain": [
       "<bound method Series.unique of 0       Sun\n",
       "1       Sun\n",
       "2       Sun\n",
       "3       Sun\n",
       "4       Sun\n",
       "       ... \n",
       "239     Sat\n",
       "240     Sat\n",
       "241     Sat\n",
       "242     Sat\n",
       "243    Thur\n",
       "Name: day, Length: 244, dtype: object>"
      ]
     },
     "execution_count": 22,
     "metadata": {},
     "output_type": "execute_result"
    }
   ],
   "source": [
    "data[\"day\"].unique"
   ]
  },
  {
   "cell_type": "code",
   "execution_count": 23,
   "id": "dcd6c71b",
   "metadata": {},
   "outputs": [
    {
     "data": {
      "text/plain": [
       "0      False\n",
       "1      False\n",
       "2      False\n",
       "3      False\n",
       "4      False\n",
       "       ...  \n",
       "239    False\n",
       "240    False\n",
       "241    False\n",
       "242    False\n",
       "243    False\n",
       "Name: day, Length: 244, dtype: bool"
      ]
     },
     "execution_count": 23,
     "metadata": {},
     "output_type": "execute_result"
    }
   ],
   "source": [
    "data[\"day\"]==\"sun\""
   ]
  },
  {
   "cell_type": "code",
   "execution_count": 24,
   "id": "04757649",
   "metadata": {},
   "outputs": [
    {
     "data": {
      "text/plain": [
       "0       Sun\n",
       "1       Sun\n",
       "2       Sun\n",
       "3       Sun\n",
       "4       Sun\n",
       "       ... \n",
       "239     Sat\n",
       "240     Sat\n",
       "241     Sat\n",
       "242     Sat\n",
       "243    Thur\n",
       "Name: day, Length: 244, dtype: object"
      ]
     },
     "execution_count": 24,
     "metadata": {},
     "output_type": "execute_result"
    }
   ],
   "source": [
    "data[\"day\"]"
   ]
  },
  {
   "cell_type": "code",
   "execution_count": 27,
   "id": "0008014a",
   "metadata": {},
   "outputs": [
    {
     "name": "stdout",
     "output_type": "stream",
     "text": [
      "C:\\Users\\DELL-PC\\Desktop\\Employee_Salary_50Rows_50Cols.csv\n"
     ]
    }
   ],
   "source": [
    "path2= r\"C:\\Users\\DELL-PC\\Desktop\\Employee_Salary_50Rows_50Cols.csv\"\n",
    "print(path2)\n"
   ]
  },
  {
   "cell_type": "code",
   "execution_count": 29,
   "id": "ef0066c6",
   "metadata": {},
   "outputs": [
    {
     "name": "stdout",
     "output_type": "stream",
     "text": [
      "    Employee ID  Basic Salary (Month 1)  HRA (Month 1)  DA (Month 1)  \\\n",
      "0          5741                   77253          24769         32331   \n",
      "1          2307                   22996          56865         76628   \n",
      "2          4814                   73608          63792         23179   \n",
      "3          2654                   32578          60617         54501   \n",
      "4          7227                   51162          37766         23051   \n",
      "5          5554                   59660          70397         60230   \n",
      "6          8428                   49415          56502         56355   \n",
      "7          6977                   52492          58915         60414   \n",
      "8          3664                   55758          31791         64676   \n",
      "9          7065                   36268          63096         63561   \n",
      "10         6820                   33557          54151         51649   \n",
      "11         4432                   66185          34076         33486   \n",
      "12         5374                   47409          59087         29035   \n",
      "13         2169                   39142          22142         38012   \n",
      "14         3803                   65163          42978         76429   \n",
      "15         9751                   52077          29317         57842   \n",
      "16         5010                   75864          51807         71662   \n",
      "17         3677                   28696          58907         34823   \n",
      "18         8573                   76358          34237         25681   \n",
      "19         7216                   24653          54621         78243   \n",
      "20         5422                   72957          30182         55152   \n",
      "21         4598                   77243          37613         68033   \n",
      "22         6313                   62972          47483         34713   \n",
      "23         1916                   20417          46872         21566   \n",
      "24         4752                   35517          39115         37104   \n",
      "25         1525                   25977          66606         36267   \n",
      "26         6168                   73038          28440         26027   \n",
      "27         7572                   61337          72570         55629   \n",
      "28         5386                   43252          74999         75392   \n",
      "29         2084                   66182          29283         70748   \n",
      "30         4456                   22122          31932         59478   \n",
      "31         6155                   74316          51423         71690   \n",
      "32         4483                   35567          26285         23252   \n",
      "33         9179                   37262          34827         74858   \n",
      "34         7482                   30955          33886         72983   \n",
      "35         8517                   38749          76850         55103   \n",
      "36         3340                   41028          37656         67762   \n",
      "37         5339                   46014          61642         28118   \n",
      "38         3287                   72485          20554         34664   \n",
      "39         5040                   39581          32344         29825   \n",
      "40         9830                   68556          36951         67525   \n",
      "41         5304                   78513          79416         49987   \n",
      "42         8019                   32489          21174         64351   \n",
      "43         7543                   66603          62633         71912   \n",
      "44         6930                   52619          33018         59911   \n",
      "45         4593                   64352          40493         47918   \n",
      "46         3266                   57286          64459         48715   \n",
      "47         9348                   23576          20763         62165   \n",
      "48         9085                   71890          59597         60571   \n",
      "49         2489                   32290          27913         75849   \n",
      "\n",
      "    Bonuses (Month 1)  Provident Fund (Month 1)  Tax (Month 1)  \\\n",
      "0                7591                     11626          11156   \n",
      "1                2812                      4390           2265   \n",
      "2                7261                      2104           8756   \n",
      "3                3067                      7807           6379   \n",
      "4                1609                      6593          10897   \n",
      "5                5879                      8499           7347   \n",
      "6                5197                      8685           3692   \n",
      "7                2601                      9501           3752   \n",
      "8                7288                     11012           2440   \n",
      "9                3908                      4725           2725   \n",
      "10               3853                      9801           3599   \n",
      "11               3280                      3025          11459   \n",
      "12               5708                      8286           8931   \n",
      "13               2841                     10808           6729   \n",
      "14               6822                     11998           9015   \n",
      "15               6180                      6402           8786   \n",
      "16               3815                      2793           2752   \n",
      "17               5255                      9291           2152   \n",
      "18               1823                      4293           4017   \n",
      "19               1098                      7916           7185   \n",
      "20               3676                      8401          11608   \n",
      "21               1967                      2480           7488   \n",
      "22               3636                      6067           8819   \n",
      "23               2908                     10872           7675   \n",
      "24               7970                      7161           8438   \n",
      "25               3914                      8492          10412   \n",
      "26               7940                      7432           4007   \n",
      "27               7511                      2319           8266   \n",
      "28               2423                      4885           5875   \n",
      "29               1908                     10622           7978   \n",
      "30               3606                      5619          11265   \n",
      "31               5735                      5695           4664   \n",
      "32               4218                     11367          11005   \n",
      "33               3200                     11244           3009   \n",
      "34               2578                      4067           2699   \n",
      "35               3816                      8732           6327   \n",
      "36               4414                     11911           3462   \n",
      "37               6580                      2500           5963   \n",
      "38               3067                     11967           7004   \n",
      "39               5237                      5937           2930   \n",
      "40               7621                     11159           4999   \n",
      "41               2173                      7183           4954   \n",
      "42               1033                      6076           5707   \n",
      "43               1306                      8147           6190   \n",
      "44               2636                      6308          10571   \n",
      "45               7050                      3898           3556   \n",
      "46               2484                      8221           7875   \n",
      "47               2285                     10283           9688   \n",
      "48               6222                      6990          10328   \n",
      "49               4218                      5532           9488   \n",
      "\n",
      "    Other Allowances (Month 1)  Medical Insurance (Month 1)  \\\n",
      "0                         2777                         4927   \n",
      "1                         3136                         5532   \n",
      "2                         2126                         7902   \n",
      "3                         7512                         4251   \n",
      "4                         5616                         6391   \n",
      "5                         1242                         6194   \n",
      "6                         1215                         1734   \n",
      "7                         2109                         3495   \n",
      "8                         6957                         4781   \n",
      "9                         5613                         6284   \n",
      "10                        4589                         6914   \n",
      "11                        1833                         7549   \n",
      "12                        2521                         4986   \n",
      "13                        2377                         7395   \n",
      "14                        2359                         6047   \n",
      "15                        4073                         4702   \n",
      "16                        1815                         6129   \n",
      "17                        1066                         6698   \n",
      "18                        5829                         6980   \n",
      "19                        2081                         4168   \n",
      "20                        6196                         7252   \n",
      "21                        7611                         4517   \n",
      "22                        6900                         3620   \n",
      "23                        6209                         7877   \n",
      "24                        6740                         7814   \n",
      "25                        1401                         6547   \n",
      "26                        1349                         4776   \n",
      "27                        7405                         6843   \n",
      "28                        5853                         3605   \n",
      "29                        1594                         4060   \n",
      "30                        1852                         5064   \n",
      "31                        4696                         1603   \n",
      "32                        7880                         5021   \n",
      "33                        2238                         7162   \n",
      "34                        4468                         1641   \n",
      "35                        4137                         6364   \n",
      "36                        2539                         4618   \n",
      "37                        4051                         5004   \n",
      "38                        6838                         6811   \n",
      "39                        7598                         7572   \n",
      "40                        6568                         3749   \n",
      "41                        7381                         1662   \n",
      "42                        6681                         3820   \n",
      "43                        7318                         5380   \n",
      "44                        2652                         3932   \n",
      "45                        7973                         7211   \n",
      "46                        6008                         1236   \n",
      "47                        7978                         5061   \n",
      "48                        5606                         2694   \n",
      "49                        7754                         7401   \n",
      "\n",
      "    Travel Allowance (Month 1)  ...  Basic Salary (Month 5)  HRA (Month 5)  \\\n",
      "0                         2711  ...                   50540          26462   \n",
      "1                         5784  ...                   52002          32061   \n",
      "2                         6166  ...                   65734          64173   \n",
      "3                         1647  ...                   71404          41710   \n",
      "4                         1269  ...                   52819          68854   \n",
      "5                         3239  ...                   20340          40202   \n",
      "6                         3899  ...                   38085          47597   \n",
      "7                         1055  ...                   44645          38369   \n",
      "8                         6802  ...                   71820          43562   \n",
      "9                         6549  ...                   39361          47261   \n",
      "10                        6707  ...                   45924          21913   \n",
      "11                        5398  ...                   27724          35635   \n",
      "12                        6206  ...                   75043          49088   \n",
      "13                        4746  ...                   76505          73525   \n",
      "14                        2140  ...                   76759          28696   \n",
      "15                        1618  ...                   52421          37598   \n",
      "16                        7421  ...                   65838          69494   \n",
      "17                        3814  ...                   62599          30755   \n",
      "18                        4145  ...                   78845          72021   \n",
      "19                        7872  ...                   55164          55235   \n",
      "20                        7836  ...                   53896          71313   \n",
      "21                        3228  ...                   50917          43853   \n",
      "22                        3222  ...                   44135          58777   \n",
      "23                        6680  ...                   61760          73737   \n",
      "24                        7024  ...                   30329          72926   \n",
      "25                        3448  ...                   58163          58411   \n",
      "26                        1414  ...                   25748          38335   \n",
      "27                        3941  ...                   54975          73496   \n",
      "28                        7604  ...                   33203          72851   \n",
      "29                        6771  ...                   39301          28345   \n",
      "30                        2152  ...                   47502          30901   \n",
      "31                        7547  ...                   33470          32450   \n",
      "32                        2258  ...                   44315          78031   \n",
      "33                        6705  ...                   57435          79012   \n",
      "34                        6596  ...                   57132          58530   \n",
      "35                        4977  ...                   64882          26436   \n",
      "36                        2731  ...                   49913          23313   \n",
      "37                        5866  ...                   21314          76664   \n",
      "38                        6265  ...                   51571          24183   \n",
      "39                        7635  ...                   75405          31140   \n",
      "40                        6361  ...                   47073          23543   \n",
      "41                        4994  ...                   22472          54981   \n",
      "42                        3556  ...                   34701          67655   \n",
      "43                        6104  ...                   28989          47448   \n",
      "44                        6762  ...                   37309          50426   \n",
      "45                        1375  ...                   28684          65624   \n",
      "46                        6607  ...                   42659          63496   \n",
      "47                        2354  ...                   21164          26726   \n",
      "48                        6362  ...                   23000          78777   \n",
      "49                        2561  ...                   73427          28413   \n",
      "\n",
      "    DA (Month 5)  Bonuses (Month 5)  Provident Fund (Month 5)  Tax (Month 5)  \\\n",
      "0          72613               6918                      9692           7246   \n",
      "1          78285               5441                      2962          10584   \n",
      "2          48218               7604                      4937           3753   \n",
      "3          57083               1781                     10653           2697   \n",
      "4          42666               1439                      3600           9161   \n",
      "5          49146               3948                      6419           3674   \n",
      "6          39644               4966                      3260           7916   \n",
      "7          73509               7437                      8437           7980   \n",
      "8          65982               7654                     10796          11729   \n",
      "9          25626               1950                      4321           7707   \n",
      "10         68325               6030                      5232           9365   \n",
      "11         40013               1958                      4999           8116   \n",
      "12         52027               2370                      3354          11263   \n",
      "13         25700               4596                      3923           5882   \n",
      "14         36362               2198                      7277           6055   \n",
      "15         41159               7785                      6646           7533   \n",
      "16         35344               4516                      3494           3559   \n",
      "17         48842               3876                      5490           4480   \n",
      "18         35685               5054                      8322           3847   \n",
      "19         60373               2250                      6546           3369   \n",
      "20         73903               6904                      6247           4735   \n",
      "21         45098               2229                      4932           2579   \n",
      "22         52332               7329                      5201          10954   \n",
      "23         45844               1613                     11697          11303   \n",
      "24         64961               3492                     11884           2660   \n",
      "25         36962               7658                      3228           2357   \n",
      "26         45101               2124                      8868           5267   \n",
      "27         71854               7037                      2916           5594   \n",
      "28         28551               3791                      4907           7301   \n",
      "29         31646               6970                      2029          11385   \n",
      "30         77969               4391                     10078           8204   \n",
      "31         46822               6711                     11078          10849   \n",
      "32         44998               4026                      5056           9303   \n",
      "33         53870               7557                     11363           4415   \n",
      "34         58186               7212                      3641           3730   \n",
      "35         76944               2867                      4201           6923   \n",
      "36         43617               6772                      5262           6488   \n",
      "37         71137               7287                      2145           9767   \n",
      "38         42038               3264                      7327           6536   \n",
      "39         75092               6387                     11146           4967   \n",
      "40         77071               7997                      4470           4250   \n",
      "41         33068               6985                      8112           2230   \n",
      "42         28598               2730                      2359          11661   \n",
      "43         74437               1859                     10381           3928   \n",
      "44         23282               1817                      4862           2646   \n",
      "45         67606               1480                      4611           3699   \n",
      "46         64321               6254                      8305           4435   \n",
      "47         46439               4377                      2587          11128   \n",
      "48         30758               5033                      4301           8704   \n",
      "49         26786               4173                     11839          11931   \n",
      "\n",
      "    Other Allowances (Month 5)  Medical Insurance (Month 5)  \\\n",
      "0                         2664                         4036   \n",
      "1                         1277                         7873   \n",
      "2                         1789                         5295   \n",
      "3                         2882                         2731   \n",
      "4                         2901                         7870   \n",
      "5                         2085                         1715   \n",
      "6                         3061                         3020   \n",
      "7                         1932                         5619   \n",
      "8                         6227                         1696   \n",
      "9                         3555                         3810   \n",
      "10                        5851                         4518   \n",
      "11                        6680                         2158   \n",
      "12                        1252                         7519   \n",
      "13                        2719                         7641   \n",
      "14                        7237                         7910   \n",
      "15                        5483                         5734   \n",
      "16                        1008                         2748   \n",
      "17                        4372                         6046   \n",
      "18                        2974                         5092   \n",
      "19                        3538                         1647   \n",
      "20                        4046                         2039   \n",
      "21                        5529                         7579   \n",
      "22                        7229                         7520   \n",
      "23                        1510                         4563   \n",
      "24                        2761                         7847   \n",
      "25                        1528                         2619   \n",
      "26                        6264                         7530   \n",
      "27                        5716                         7934   \n",
      "28                        1487                         1179   \n",
      "29                        4207                         7969   \n",
      "30                        3877                         5473   \n",
      "31                        3173                         6411   \n",
      "32                        1365                         3156   \n",
      "33                        1985                         7202   \n",
      "34                        5609                         7386   \n",
      "35                        7092                         4629   \n",
      "36                        4017                         7746   \n",
      "37                        2083                         6303   \n",
      "38                        3139                         6374   \n",
      "39                        3406                         1799   \n",
      "40                        2640                         3807   \n",
      "41                        3639                         7200   \n",
      "42                        5133                         2384   \n",
      "43                        3315                         1933   \n",
      "44                        7981                         3380   \n",
      "45                        4408                         5839   \n",
      "46                        7873                         7770   \n",
      "47                        5498                         1001   \n",
      "48                        1876                         3083   \n",
      "49                        3636                         5129   \n",
      "\n",
      "    Travel Allowance (Month 5)  Meal Allowance (Month 5)  \n",
      "0                         3563                      4390  \n",
      "1                         7936                      1608  \n",
      "2                         2219                      2974  \n",
      "3                         6671                      5643  \n",
      "4                         1622                      3790  \n",
      "5                         2535                      4530  \n",
      "6                         6905                      6120  \n",
      "7                         2636                      5851  \n",
      "8                         1895                      7299  \n",
      "9                         4730                      7424  \n",
      "10                        4185                      1036  \n",
      "11                        5184                      4182  \n",
      "12                        7234                      2806  \n",
      "13                        7042                      5816  \n",
      "14                        6539                      4217  \n",
      "15                        2069                      5637  \n",
      "16                        4906                      1638  \n",
      "17                        6624                      4624  \n",
      "18                        6227                      5865  \n",
      "19                        5188                      2664  \n",
      "20                        7142                      7398  \n",
      "21                        6849                      7067  \n",
      "22                        3008                      2233  \n",
      "23                        6426                      2070  \n",
      "24                        3685                      2215  \n",
      "25                        6291                      4632  \n",
      "26                        5307                      3041  \n",
      "27                        7532                      4181  \n",
      "28                        2210                      5805  \n",
      "29                        7314                      5648  \n",
      "30                        4074                      1830  \n",
      "31                        3306                      3436  \n",
      "32                        4602                      4809  \n",
      "33                        4678                      2416  \n",
      "34                        1827                      7436  \n",
      "35                        7340                      7765  \n",
      "36                        4802                      5137  \n",
      "37                        2418                      5924  \n",
      "38                        6825                      6336  \n",
      "39                        4856                      2048  \n",
      "40                        4352                      5664  \n",
      "41                        7825                      5350  \n",
      "42                        2008                      4003  \n",
      "43                        7428                      1870  \n",
      "44                        3950                      7566  \n",
      "45                        4954                      7572  \n",
      "46                        5573                      6020  \n",
      "47                        7765                      1744  \n",
      "48                        6004                      2604  \n",
      "49                        4151                      4429  \n",
      "\n",
      "[50 rows x 51 columns]\n"
     ]
    }
   ],
   "source": [
    "data2 = pd.read_csv(path2)\n",
    "print(data2)"
   ]
  },
  {
   "cell_type": "code",
   "execution_count": 30,
   "id": "87313d3f",
   "metadata": {},
   "outputs": [
    {
     "data": {
      "text/plain": [
       "Index(['Employee ID', 'Basic Salary (Month 1)', 'HRA (Month 1)',\n",
       "       'DA (Month 1)', 'Bonuses (Month 1)', 'Provident Fund (Month 1)',\n",
       "       'Tax (Month 1)', 'Other Allowances (Month 1)',\n",
       "       'Medical Insurance (Month 1)', 'Travel Allowance (Month 1)',\n",
       "       'Meal Allowance (Month 1)', 'Basic Salary (Month 2)', 'HRA (Month 2)',\n",
       "       'DA (Month 2)', 'Bonuses (Month 2)', 'Provident Fund (Month 2)',\n",
       "       'Tax (Month 2)', 'Other Allowances (Month 2)',\n",
       "       'Medical Insurance (Month 2)', 'Travel Allowance (Month 2)',\n",
       "       'Meal Allowance (Month 2)', 'Basic Salary (Month 3)', 'HRA (Month 3)',\n",
       "       'DA (Month 3)', 'Bonuses (Month 3)', 'Provident Fund (Month 3)',\n",
       "       'Tax (Month 3)', 'Other Allowances (Month 3)',\n",
       "       'Medical Insurance (Month 3)', 'Travel Allowance (Month 3)',\n",
       "       'Meal Allowance (Month 3)', 'Basic Salary (Month 4)', 'HRA (Month 4)',\n",
       "       'DA (Month 4)', 'Bonuses (Month 4)', 'Provident Fund (Month 4)',\n",
       "       'Tax (Month 4)', 'Other Allowances (Month 4)',\n",
       "       'Medical Insurance (Month 4)', 'Travel Allowance (Month 4)',\n",
       "       'Meal Allowance (Month 4)', 'Basic Salary (Month 5)', 'HRA (Month 5)',\n",
       "       'DA (Month 5)', 'Bonuses (Month 5)', 'Provident Fund (Month 5)',\n",
       "       'Tax (Month 5)', 'Other Allowances (Month 5)',\n",
       "       'Medical Insurance (Month 5)', 'Travel Allowance (Month 5)',\n",
       "       'Meal Allowance (Month 5)'],\n",
       "      dtype='object')"
      ]
     },
     "execution_count": 30,
     "metadata": {},
     "output_type": "execute_result"
    }
   ],
   "source": [
    "data2.columns"
   ]
  },
  {
   "cell_type": "code",
   "execution_count": 31,
   "id": "f2f01e1d",
   "metadata": {},
   "outputs": [
    {
     "data": {
      "text/plain": [
       "(50, 51)"
      ]
     },
     "execution_count": 31,
     "metadata": {},
     "output_type": "execute_result"
    }
   ],
   "source": [
    "data2.shape"
   ]
  },
  {
   "cell_type": "code",
   "execution_count": 32,
   "id": "975e5334",
   "metadata": {},
   "outputs": [
    {
     "data": {
      "text/plain": [
       "Index(['Employee ID', 'Basic Salary (Month 1)', 'HRA (Month 1)',\n",
       "       'DA (Month 1)', 'Bonuses (Month 1)', 'Provident Fund (Month 1)',\n",
       "       'Tax (Month 1)', 'Other Allowances (Month 1)',\n",
       "       'Medical Insurance (Month 1)', 'Travel Allowance (Month 1)',\n",
       "       'Meal Allowance (Month 1)', 'Basic Salary (Month 2)', 'HRA (Month 2)',\n",
       "       'DA (Month 2)', 'Bonuses (Month 2)', 'Provident Fund (Month 2)',\n",
       "       'Tax (Month 2)', 'Other Allowances (Month 2)',\n",
       "       'Medical Insurance (Month 2)', 'Travel Allowance (Month 2)',\n",
       "       'Meal Allowance (Month 2)', 'Basic Salary (Month 3)', 'HRA (Month 3)',\n",
       "       'DA (Month 3)', 'Bonuses (Month 3)', 'Provident Fund (Month 3)',\n",
       "       'Tax (Month 3)', 'Other Allowances (Month 3)',\n",
       "       'Medical Insurance (Month 3)', 'Travel Allowance (Month 3)',\n",
       "       'Meal Allowance (Month 3)', 'Basic Salary (Month 4)', 'HRA (Month 4)',\n",
       "       'DA (Month 4)', 'Bonuses (Month 4)', 'Provident Fund (Month 4)',\n",
       "       'Tax (Month 4)', 'Other Allowances (Month 4)',\n",
       "       'Medical Insurance (Month 4)', 'Travel Allowance (Month 4)',\n",
       "       'Meal Allowance (Month 4)', 'Basic Salary (Month 5)', 'HRA (Month 5)',\n",
       "       'DA (Month 5)', 'Bonuses (Month 5)', 'Provident Fund (Month 5)',\n",
       "       'Tax (Month 5)', 'Other Allowances (Month 5)',\n",
       "       'Medical Insurance (Month 5)', 'Travel Allowance (Month 5)',\n",
       "       'Meal Allowance (Month 5)'],\n",
       "      dtype='object')"
      ]
     },
     "execution_count": 32,
     "metadata": {},
     "output_type": "execute_result"
    }
   ],
   "source": [
    "data2.columns"
   ]
  },
  {
   "cell_type": "code",
   "execution_count": 33,
   "id": "72628c75",
   "metadata": {},
   "outputs": [
    {
     "data": {
      "text/plain": [
       "Employee ID                    int64\n",
       "Basic Salary (Month 1)         int64\n",
       "HRA (Month 1)                  int64\n",
       "DA (Month 1)                   int64\n",
       "Bonuses (Month 1)              int64\n",
       "Provident Fund (Month 1)       int64\n",
       "Tax (Month 1)                  int64\n",
       "Other Allowances (Month 1)     int64\n",
       "Medical Insurance (Month 1)    int64\n",
       "Travel Allowance (Month 1)     int64\n",
       "Meal Allowance (Month 1)       int64\n",
       "Basic Salary (Month 2)         int64\n",
       "HRA (Month 2)                  int64\n",
       "DA (Month 2)                   int64\n",
       "Bonuses (Month 2)              int64\n",
       "Provident Fund (Month 2)       int64\n",
       "Tax (Month 2)                  int64\n",
       "Other Allowances (Month 2)     int64\n",
       "Medical Insurance (Month 2)    int64\n",
       "Travel Allowance (Month 2)     int64\n",
       "Meal Allowance (Month 2)       int64\n",
       "Basic Salary (Month 3)         int64\n",
       "HRA (Month 3)                  int64\n",
       "DA (Month 3)                   int64\n",
       "Bonuses (Month 3)              int64\n",
       "Provident Fund (Month 3)       int64\n",
       "Tax (Month 3)                  int64\n",
       "Other Allowances (Month 3)     int64\n",
       "Medical Insurance (Month 3)    int64\n",
       "Travel Allowance (Month 3)     int64\n",
       "Meal Allowance (Month 3)       int64\n",
       "Basic Salary (Month 4)         int64\n",
       "HRA (Month 4)                  int64\n",
       "DA (Month 4)                   int64\n",
       "Bonuses (Month 4)              int64\n",
       "Provident Fund (Month 4)       int64\n",
       "Tax (Month 4)                  int64\n",
       "Other Allowances (Month 4)     int64\n",
       "Medical Insurance (Month 4)    int64\n",
       "Travel Allowance (Month 4)     int64\n",
       "Meal Allowance (Month 4)       int64\n",
       "Basic Salary (Month 5)         int64\n",
       "HRA (Month 5)                  int64\n",
       "DA (Month 5)                   int64\n",
       "Bonuses (Month 5)              int64\n",
       "Provident Fund (Month 5)       int64\n",
       "Tax (Month 5)                  int64\n",
       "Other Allowances (Month 5)     int64\n",
       "Medical Insurance (Month 5)    int64\n",
       "Travel Allowance (Month 5)     int64\n",
       "Meal Allowance (Month 5)       int64\n",
       "dtype: object"
      ]
     },
     "execution_count": 33,
     "metadata": {},
     "output_type": "execute_result"
    }
   ],
   "source": [
    "data2.dtypes"
   ]
  },
  {
   "cell_type": "code",
   "execution_count": 35,
   "id": "e912ac16",
   "metadata": {},
   "outputs": [
    {
     "data": {
      "text/plain": [
       "RangeIndex(start=0, stop=50, step=1)"
      ]
     },
     "execution_count": 35,
     "metadata": {},
     "output_type": "execute_result"
    }
   ],
   "source": [
    "data2.index"
   ]
  },
  {
   "cell_type": "code",
   "execution_count": 38,
   "id": "2e5dfbd5",
   "metadata": {},
   "outputs": [
    {
     "data": {
      "text/plain": [
       "Employee ID                    int64\n",
       "Basic Salary (Month 1)         int64\n",
       "HRA (Month 1)                  int64\n",
       "DA (Month 1)                   int64\n",
       "Bonuses (Month 1)              int64\n",
       "Provident Fund (Month 1)       int64\n",
       "Tax (Month 1)                  int64\n",
       "Other Allowances (Month 1)     int64\n",
       "Medical Insurance (Month 1)    int64\n",
       "Travel Allowance (Month 1)     int64\n",
       "Meal Allowance (Month 1)       int64\n",
       "Basic Salary (Month 2)         int64\n",
       "HRA (Month 2)                  int64\n",
       "DA (Month 2)                   int64\n",
       "Bonuses (Month 2)              int64\n",
       "Provident Fund (Month 2)       int64\n",
       "Tax (Month 2)                  int64\n",
       "Other Allowances (Month 2)     int64\n",
       "Medical Insurance (Month 2)    int64\n",
       "Travel Allowance (Month 2)     int64\n",
       "Meal Allowance (Month 2)       int64\n",
       "Basic Salary (Month 3)         int64\n",
       "HRA (Month 3)                  int64\n",
       "DA (Month 3)                   int64\n",
       "Bonuses (Month 3)              int64\n",
       "Provident Fund (Month 3)       int64\n",
       "Tax (Month 3)                  int64\n",
       "Other Allowances (Month 3)     int64\n",
       "Medical Insurance (Month 3)    int64\n",
       "Travel Allowance (Month 3)     int64\n",
       "Meal Allowance (Month 3)       int64\n",
       "Basic Salary (Month 4)         int64\n",
       "HRA (Month 4)                  int64\n",
       "DA (Month 4)                   int64\n",
       "Bonuses (Month 4)              int64\n",
       "Provident Fund (Month 4)       int64\n",
       "Tax (Month 4)                  int64\n",
       "Other Allowances (Month 4)     int64\n",
       "Medical Insurance (Month 4)    int64\n",
       "Travel Allowance (Month 4)     int64\n",
       "Meal Allowance (Month 4)       int64\n",
       "Basic Salary (Month 5)         int64\n",
       "HRA (Month 5)                  int64\n",
       "DA (Month 5)                   int64\n",
       "Bonuses (Month 5)              int64\n",
       "Provident Fund (Month 5)       int64\n",
       "Tax (Month 5)                  int64\n",
       "Other Allowances (Month 5)     int64\n",
       "Medical Insurance (Month 5)    int64\n",
       "Travel Allowance (Month 5)     int64\n",
       "Meal Allowance (Month 5)       int64\n",
       "dtype: object"
      ]
     },
     "execution_count": 38,
     "metadata": {},
     "output_type": "execute_result"
    }
   ],
   "source": [
    "data2.dtypes"
   ]
  },
  {
   "cell_type": "code",
   "execution_count": 39,
   "id": "3b7947a8",
   "metadata": {},
   "outputs": [
    {
     "data": {
      "text/plain": [
       "0     5741\n",
       "1     2307\n",
       "2     4814\n",
       "3     2654\n",
       "4     7227\n",
       "5     5554\n",
       "6     8428\n",
       "7     6977\n",
       "8     3664\n",
       "9     7065\n",
       "10    6820\n",
       "11    4432\n",
       "12    5374\n",
       "13    2169\n",
       "14    3803\n",
       "15    9751\n",
       "16    5010\n",
       "17    3677\n",
       "18    8573\n",
       "19    7216\n",
       "20    5422\n",
       "21    4598\n",
       "22    6313\n",
       "23    1916\n",
       "24    4752\n",
       "25    1525\n",
       "26    6168\n",
       "27    7572\n",
       "28    5386\n",
       "29    2084\n",
       "30    4456\n",
       "31    6155\n",
       "32    4483\n",
       "33    9179\n",
       "34    7482\n",
       "35    8517\n",
       "36    3340\n",
       "37    5339\n",
       "38    3287\n",
       "39    5040\n",
       "40    9830\n",
       "41    5304\n",
       "42    8019\n",
       "43    7543\n",
       "44    6930\n",
       "45    4593\n",
       "46    3266\n",
       "47    9348\n",
       "48    9085\n",
       "49    2489\n",
       "Name: Employee ID, dtype: int64"
      ]
     },
     "execution_count": 39,
     "metadata": {},
     "output_type": "execute_result"
    }
   ],
   "source": [
    "data2[\"Employee ID\"]"
   ]
  },
  {
   "cell_type": "code",
   "execution_count": 40,
   "id": "a3b17f59",
   "metadata": {},
   "outputs": [
    {
     "data": {
      "text/plain": [
       "<bound method Series.unique of 0     5741\n",
       "1     2307\n",
       "2     4814\n",
       "3     2654\n",
       "4     7227\n",
       "5     5554\n",
       "6     8428\n",
       "7     6977\n",
       "8     3664\n",
       "9     7065\n",
       "10    6820\n",
       "11    4432\n",
       "12    5374\n",
       "13    2169\n",
       "14    3803\n",
       "15    9751\n",
       "16    5010\n",
       "17    3677\n",
       "18    8573\n",
       "19    7216\n",
       "20    5422\n",
       "21    4598\n",
       "22    6313\n",
       "23    1916\n",
       "24    4752\n",
       "25    1525\n",
       "26    6168\n",
       "27    7572\n",
       "28    5386\n",
       "29    2084\n",
       "30    4456\n",
       "31    6155\n",
       "32    4483\n",
       "33    9179\n",
       "34    7482\n",
       "35    8517\n",
       "36    3340\n",
       "37    5339\n",
       "38    3287\n",
       "39    5040\n",
       "40    9830\n",
       "41    5304\n",
       "42    8019\n",
       "43    7543\n",
       "44    6930\n",
       "45    4593\n",
       "46    3266\n",
       "47    9348\n",
       "48    9085\n",
       "49    2489\n",
       "Name: Employee ID, dtype: int64>"
      ]
     },
     "execution_count": 40,
     "metadata": {},
     "output_type": "execute_result"
    }
   ],
   "source": [
    "data2[\"Employee ID\"].unique"
   ]
  },
  {
   "cell_type": "code",
   "execution_count": 41,
   "id": "dab6b088",
   "metadata": {},
   "outputs": [
    {
     "data": {
      "text/plain": [
       "0     77253\n",
       "1     22996\n",
       "2     73608\n",
       "3     32578\n",
       "4     51162\n",
       "5     59660\n",
       "6     49415\n",
       "7     52492\n",
       "8     55758\n",
       "9     36268\n",
       "10    33557\n",
       "11    66185\n",
       "12    47409\n",
       "13    39142\n",
       "14    65163\n",
       "15    52077\n",
       "16    75864\n",
       "17    28696\n",
       "18    76358\n",
       "19    24653\n",
       "20    72957\n",
       "21    77243\n",
       "22    62972\n",
       "23    20417\n",
       "24    35517\n",
       "25    25977\n",
       "26    73038\n",
       "27    61337\n",
       "28    43252\n",
       "29    66182\n",
       "30    22122\n",
       "31    74316\n",
       "32    35567\n",
       "33    37262\n",
       "34    30955\n",
       "35    38749\n",
       "36    41028\n",
       "37    46014\n",
       "38    72485\n",
       "39    39581\n",
       "40    68556\n",
       "41    78513\n",
       "42    32489\n",
       "43    66603\n",
       "44    52619\n",
       "45    64352\n",
       "46    57286\n",
       "47    23576\n",
       "48    71890\n",
       "49    32290\n",
       "Name: Basic Salary (Month 1), dtype: int64"
      ]
     },
     "execution_count": 41,
     "metadata": {},
     "output_type": "execute_result"
    }
   ],
   "source": [
    "data2[\"Basic Salary (Month 1)\"]"
   ]
  },
  {
   "cell_type": "code",
   "execution_count": 42,
   "id": "7c59910f",
   "metadata": {},
   "outputs": [
    {
     "data": {
      "text/plain": [
       "0     5741\n",
       "1     2307\n",
       "2     4814\n",
       "3     2654\n",
       "4     7227\n",
       "5     5554\n",
       "6     8428\n",
       "7     6977\n",
       "8     3664\n",
       "9     7065\n",
       "10    6820\n",
       "11    4432\n",
       "12    5374\n",
       "13    2169\n",
       "14    3803\n",
       "15    9751\n",
       "16    5010\n",
       "17    3677\n",
       "18    8573\n",
       "19    7216\n",
       "20    5422\n",
       "21    4598\n",
       "22    6313\n",
       "23    1916\n",
       "24    4752\n",
       "25    1525\n",
       "26    6168\n",
       "27    7572\n",
       "28    5386\n",
       "29    2084\n",
       "30    4456\n",
       "31    6155\n",
       "32    4483\n",
       "33    9179\n",
       "34    7482\n",
       "35    8517\n",
       "36    3340\n",
       "37    5339\n",
       "38    3287\n",
       "39    5040\n",
       "40    9830\n",
       "41    5304\n",
       "42    8019\n",
       "43    7543\n",
       "44    6930\n",
       "45    4593\n",
       "46    3266\n",
       "47    9348\n",
       "48    9085\n",
       "49    2489\n",
       "Name: Employee ID, dtype: int64"
      ]
     },
     "execution_count": 42,
     "metadata": {},
     "output_type": "execute_result"
    }
   ],
   "source": [
    "data2[\"Employee ID\"]"
   ]
  },
  {
   "cell_type": "code",
   "execution_count": 44,
   "id": "e579c956",
   "metadata": {},
   "outputs": [
    {
     "name": "stdout",
     "output_type": "stream",
     "text": [
      "C:\\Users\\DELL-PC\\Desktop\\sales.xlsx\n"
     ]
    }
   ],
   "source": [
    "path3 =r\"C:\\Users\\DELL-PC\\Desktop\\sales.xlsx\"\n",
    "print(path3)"
   ]
  },
  {
   "cell_type": "code",
   "execution_count": null,
   "id": "ccb25e29",
   "metadata": {},
   "outputs": [],
   "source": []
  },
  {
   "cell_type": "code",
   "execution_count": 46,
   "id": "7966d4e9",
   "metadata": {},
   "outputs": [
    {
     "name": "stdout",
     "output_type": "stream",
     "text": [
      "   Sale_ID       Date   Region Store_ID Product_ID        Category  \\\n",
      "0     S001 2024-01-01    North    ST001       P006  Home Appliance   \n",
      "1     S002 2024-01-28     West    ST002       P009        Clothing   \n",
      "2     S003 2024-04-20  Central    ST005       P007       Furniture   \n",
      "3     S004 2024-02-18    South    ST004       P010       Furniture   \n",
      "4     S005 2024-04-03    South    ST004       P004       Furniture   \n",
      "5     S006 2024-01-11    South    ST004       P009        Clothing   \n",
      "6     S007 2024-04-04    South    ST004       P001     Electronics   \n",
      "7     S008 2024-02-28     East    ST003       P010       Furniture   \n",
      "8     S009 2024-04-28  Central    ST005       P005        Clothing   \n",
      "9     S010 2024-03-09    North    ST001       P007       Furniture   \n",
      "10    S011 2024-04-13    North    ST001       P002     Electronics   \n",
      "11    S012 2024-04-23    North    ST001       P010       Furniture   \n",
      "12    S013 2024-03-19  Central    ST005       P008     Electronics   \n",
      "13    S014 2024-04-15    South    ST004       P007       Furniture   \n",
      "14    S015 2024-04-30  Central    ST005       P009        Clothing   \n",
      "15    S016 2024-01-22  Central    ST005       P001     Electronics   \n",
      "16    S017 2024-03-30    North    ST001       P007       Furniture   \n",
      "17    S018 2024-02-15     West    ST002       P006  Home Appliance   \n",
      "18    S019 2024-03-24  Central    ST005       P008     Electronics   \n",
      "19    S020 2024-01-26     West    ST002       P002     Electronics   \n",
      "\n",
      "    Units_Sold  Sales_Amount    Profit  \n",
      "0            7          1750    399.16  \n",
      "1            9           900    248.08  \n",
      "2            4         20000   5406.52  \n",
      "3            6          4800   1228.48  \n",
      "4           18         72000  11674.79  \n",
      "5            2           200     52.17  \n",
      "6            5          7500   2103.42  \n",
      "7            9          7200   1216.47  \n",
      "8            8          1600    241.60  \n",
      "9            9         45000  10934.85  \n",
      "10           5          7500   1279.72  \n",
      "11          18         14400   1564.19  \n",
      "12          11         33000   4359.30  \n",
      "13          18         90000  24736.26  \n",
      "14           6           600    167.83  \n",
      "15          16         24000   7191.18  \n",
      "16           4         20000   2773.92  \n",
      "17          13          3250    945.00  \n",
      "18           5         15000   2878.96  \n",
      "19          20         30000   5456.09  \n"
     ]
    }
   ],
   "source": [
    "data3 = pd.read_excel(path3)\n",
    "print(data3)"
   ]
  },
  {
   "cell_type": "code",
   "execution_count": 48,
   "id": "47a2b251",
   "metadata": {},
   "outputs": [
    {
     "data": {
      "text/plain": [
       "Index(['Sale_ID', 'Date', 'Region', 'Store_ID', 'Product_ID', 'Category',\n",
       "       'Units_Sold', 'Sales_Amount', 'Profit'],\n",
       "      dtype='object')"
      ]
     },
     "execution_count": 48,
     "metadata": {},
     "output_type": "execute_result"
    }
   ],
   "source": [
    "data3.columns"
   ]
  },
  {
   "cell_type": "code",
   "execution_count": 53,
   "id": "3ffbde6e",
   "metadata": {},
   "outputs": [
    {
     "data": {
      "text/plain": [
       "array(['North', 'West', 'Central', 'South', 'East'], dtype=object)"
      ]
     },
     "execution_count": 53,
     "metadata": {},
     "output_type": "execute_result"
    }
   ],
   "source": [
    "data3[\"Region\"].unique()"
   ]
  },
  {
   "cell_type": "code",
   "execution_count": 54,
   "id": "b7e62b91",
   "metadata": {},
   "outputs": [
    {
     "data": {
      "text/plain": [
       "0     P006\n",
       "1     P009\n",
       "2     P007\n",
       "3     P010\n",
       "4     P004\n",
       "5     P009\n",
       "6     P001\n",
       "7     P010\n",
       "8     P005\n",
       "9     P007\n",
       "10    P002\n",
       "11    P010\n",
       "12    P008\n",
       "13    P007\n",
       "14    P009\n",
       "15    P001\n",
       "16    P007\n",
       "17    P006\n",
       "18    P008\n",
       "19    P002\n",
       "Name: Product_ID, dtype: object"
      ]
     },
     "execution_count": 54,
     "metadata": {},
     "output_type": "execute_result"
    }
   ],
   "source": [
    "data3[\"Product_ID\"]"
   ]
  },
  {
   "cell_type": "code",
   "execution_count": 57,
   "id": "fcc29921",
   "metadata": {},
   "outputs": [
    {
     "data": {
      "text/html": [
       "<div>\n",
       "<style scoped>\n",
       "    .dataframe tbody tr th:only-of-type {\n",
       "        vertical-align: middle;\n",
       "    }\n",
       "\n",
       "    .dataframe tbody tr th {\n",
       "        vertical-align: top;\n",
       "    }\n",
       "\n",
       "    .dataframe thead th {\n",
       "        text-align: right;\n",
       "    }\n",
       "</style>\n",
       "<table border=\"1\" class=\"dataframe\">\n",
       "  <thead>\n",
       "    <tr style=\"text-align: right;\">\n",
       "      <th></th>\n",
       "      <th>Sale_ID</th>\n",
       "      <th>Date</th>\n",
       "      <th>Region</th>\n",
       "      <th>Store_ID</th>\n",
       "      <th>Product_ID</th>\n",
       "      <th>Category</th>\n",
       "      <th>Units_Sold</th>\n",
       "      <th>Sales_Amount</th>\n",
       "      <th>Profit</th>\n",
       "    </tr>\n",
       "  </thead>\n",
       "  <tbody>\n",
       "    <tr>\n",
       "      <th>1</th>\n",
       "      <td>S002</td>\n",
       "      <td>2024-01-28</td>\n",
       "      <td>West</td>\n",
       "      <td>ST002</td>\n",
       "      <td>P009</td>\n",
       "      <td>Clothing</td>\n",
       "      <td>9</td>\n",
       "      <td>900</td>\n",
       "      <td>248.08</td>\n",
       "    </tr>\n",
       "    <tr>\n",
       "      <th>17</th>\n",
       "      <td>S018</td>\n",
       "      <td>2024-02-15</td>\n",
       "      <td>West</td>\n",
       "      <td>ST002</td>\n",
       "      <td>P006</td>\n",
       "      <td>Home Appliance</td>\n",
       "      <td>13</td>\n",
       "      <td>3250</td>\n",
       "      <td>945.00</td>\n",
       "    </tr>\n",
       "    <tr>\n",
       "      <th>19</th>\n",
       "      <td>S020</td>\n",
       "      <td>2024-01-26</td>\n",
       "      <td>West</td>\n",
       "      <td>ST002</td>\n",
       "      <td>P002</td>\n",
       "      <td>Electronics</td>\n",
       "      <td>20</td>\n",
       "      <td>30000</td>\n",
       "      <td>5456.09</td>\n",
       "    </tr>\n",
       "  </tbody>\n",
       "</table>\n",
       "</div>"
      ],
      "text/plain": [
       "   Sale_ID       Date Region Store_ID Product_ID        Category  Units_Sold  \\\n",
       "1     S002 2024-01-28   West    ST002       P009        Clothing           9   \n",
       "17    S018 2024-02-15   West    ST002       P006  Home Appliance          13   \n",
       "19    S020 2024-01-26   West    ST002       P002     Electronics          20   \n",
       "\n",
       "    Sales_Amount   Profit  \n",
       "1            900   248.08  \n",
       "17          3250   945.00  \n",
       "19         30000  5456.09  "
      ]
     },
     "execution_count": 57,
     "metadata": {},
     "output_type": "execute_result"
    }
   ],
   "source": [
    "data3.query(\"Region =='West'\")"
   ]
  },
  {
   "cell_type": "code",
   "execution_count": 60,
   "id": "f8fbdad7",
   "metadata": {},
   "outputs": [
    {
     "data": {
      "text/html": [
       "<div>\n",
       "<style scoped>\n",
       "    .dataframe tbody tr th:only-of-type {\n",
       "        vertical-align: middle;\n",
       "    }\n",
       "\n",
       "    .dataframe tbody tr th {\n",
       "        vertical-align: top;\n",
       "    }\n",
       "\n",
       "    .dataframe thead th {\n",
       "        text-align: right;\n",
       "    }\n",
       "</style>\n",
       "<table border=\"1\" class=\"dataframe\">\n",
       "  <thead>\n",
       "    <tr style=\"text-align: right;\">\n",
       "      <th></th>\n",
       "      <th>Sale_ID</th>\n",
       "      <th>Date</th>\n",
       "      <th>Region</th>\n",
       "      <th>Store_ID</th>\n",
       "      <th>Product_ID</th>\n",
       "      <th>Category</th>\n",
       "      <th>Units_Sold</th>\n",
       "      <th>Sales_Amount</th>\n",
       "      <th>Profit</th>\n",
       "    </tr>\n",
       "  </thead>\n",
       "  <tbody>\n",
       "    <tr>\n",
       "      <th>1</th>\n",
       "      <td>S002</td>\n",
       "      <td>2024-01-28</td>\n",
       "      <td>West</td>\n",
       "      <td>ST002</td>\n",
       "      <td>P009</td>\n",
       "      <td>Clothing</td>\n",
       "      <td>9</td>\n",
       "      <td>900</td>\n",
       "      <td>248.08</td>\n",
       "    </tr>\n",
       "    <tr>\n",
       "      <th>5</th>\n",
       "      <td>S006</td>\n",
       "      <td>2024-01-11</td>\n",
       "      <td>South</td>\n",
       "      <td>ST004</td>\n",
       "      <td>P009</td>\n",
       "      <td>Clothing</td>\n",
       "      <td>2</td>\n",
       "      <td>200</td>\n",
       "      <td>52.17</td>\n",
       "    </tr>\n",
       "    <tr>\n",
       "      <th>14</th>\n",
       "      <td>S015</td>\n",
       "      <td>2024-04-30</td>\n",
       "      <td>Central</td>\n",
       "      <td>ST005</td>\n",
       "      <td>P009</td>\n",
       "      <td>Clothing</td>\n",
       "      <td>6</td>\n",
       "      <td>600</td>\n",
       "      <td>167.83</td>\n",
       "    </tr>\n",
       "  </tbody>\n",
       "</table>\n",
       "</div>"
      ],
      "text/plain": [
       "   Sale_ID       Date   Region Store_ID Product_ID  Category  Units_Sold  \\\n",
       "1     S002 2024-01-28     West    ST002       P009  Clothing           9   \n",
       "5     S006 2024-01-11    South    ST004       P009  Clothing           2   \n",
       "14    S015 2024-04-30  Central    ST005       P009  Clothing           6   \n",
       "\n",
       "    Sales_Amount  Profit  \n",
       "1            900  248.08  \n",
       "5            200   52.17  \n",
       "14           600  167.83  "
      ]
     },
     "execution_count": 60,
     "metadata": {},
     "output_type": "execute_result"
    }
   ],
   "source": [
    "data3.query(\"Product_ID == 'P009'\")"
   ]
  },
  {
   "cell_type": "code",
   "execution_count": 61,
   "id": "b4009b48",
   "metadata": {},
   "outputs": [
    {
     "data": {
      "text/plain": [
       "0       North\n",
       "1        West\n",
       "2     Central\n",
       "3       South\n",
       "4       South\n",
       "5       South\n",
       "6       South\n",
       "7        East\n",
       "8     Central\n",
       "9       North\n",
       "10      North\n",
       "11      North\n",
       "12    Central\n",
       "13      South\n",
       "14    Central\n",
       "15    Central\n",
       "16      North\n",
       "17       West\n",
       "18    Central\n",
       "19       West\n",
       "Name: Region, dtype: object"
      ]
     },
     "execution_count": 61,
     "metadata": {},
     "output_type": "execute_result"
    }
   ],
   "source": [
    "data3[\"Region\"]"
   ]
  },
  {
   "cell_type": "code",
   "execution_count": 63,
   "id": "03f1bf65",
   "metadata": {},
   "outputs": [
    {
     "data": {
      "text/html": [
       "<div>\n",
       "<style scoped>\n",
       "    .dataframe tbody tr th:only-of-type {\n",
       "        vertical-align: middle;\n",
       "    }\n",
       "\n",
       "    .dataframe tbody tr th {\n",
       "        vertical-align: top;\n",
       "    }\n",
       "\n",
       "    .dataframe thead th {\n",
       "        text-align: right;\n",
       "    }\n",
       "</style>\n",
       "<table border=\"1\" class=\"dataframe\">\n",
       "  <thead>\n",
       "    <tr style=\"text-align: right;\">\n",
       "      <th></th>\n",
       "      <th>Sale_ID</th>\n",
       "      <th>Date</th>\n",
       "      <th>Region</th>\n",
       "      <th>Store_ID</th>\n",
       "      <th>Product_ID</th>\n",
       "      <th>Category</th>\n",
       "      <th>Units_Sold</th>\n",
       "      <th>Sales_Amount</th>\n",
       "      <th>Profit</th>\n",
       "    </tr>\n",
       "  </thead>\n",
       "  <tbody>\n",
       "  </tbody>\n",
       "</table>\n",
       "</div>"
      ],
      "text/plain": [
       "Empty DataFrame\n",
       "Columns: [Sale_ID, Date, Region, Store_ID, Product_ID, Category, Units_Sold, Sales_Amount, Profit]\n",
       "Index: []"
      ]
     },
     "execution_count": 63,
     "metadata": {},
     "output_type": "execute_result"
    }
   ],
   "source": [
    "data3.query(\"Product_ID =='P002' and  Region == 'East'\")"
   ]
  },
  {
   "cell_type": "code",
   "execution_count": 65,
   "id": "abad256c",
   "metadata": {},
   "outputs": [
    {
     "data": {
      "text/plain": [
       "Index(['Sale_ID', 'Date', 'Region', 'Store_ID', 'Product_ID', 'Category',\n",
       "       'Units_Sold', 'Sales_Amount', 'Profit'],\n",
       "      dtype='object')"
      ]
     },
     "execution_count": 65,
     "metadata": {},
     "output_type": "execute_result"
    }
   ],
   "source": [
    "data3.columns"
   ]
  },
  {
   "cell_type": "code",
   "execution_count": 67,
   "id": "e7e4db40",
   "metadata": {},
   "outputs": [
    {
     "data": {
      "text/plain": [
       "0      1750\n",
       "1       900\n",
       "2     20000\n",
       "3      4800\n",
       "4     72000\n",
       "5       200\n",
       "6      7500\n",
       "7      7200\n",
       "8      1600\n",
       "9     45000\n",
       "10     7500\n",
       "11    14400\n",
       "12    33000\n",
       "13    90000\n",
       "14      600\n",
       "15    24000\n",
       "16    20000\n",
       "17     3250\n",
       "18    15000\n",
       "19    30000\n",
       "Name: Sales_Amount, dtype: int64"
      ]
     },
     "execution_count": 67,
     "metadata": {},
     "output_type": "execute_result"
    }
   ],
   "source": [
    "data3[\"Sales_Amount\"]"
   ]
  },
  {
   "cell_type": "code",
   "execution_count": 69,
   "id": "beea6815",
   "metadata": {},
   "outputs": [
    {
     "data": {
      "text/html": [
       "<div>\n",
       "<style scoped>\n",
       "    .dataframe tbody tr th:only-of-type {\n",
       "        vertical-align: middle;\n",
       "    }\n",
       "\n",
       "    .dataframe tbody tr th {\n",
       "        vertical-align: top;\n",
       "    }\n",
       "\n",
       "    .dataframe thead th {\n",
       "        text-align: right;\n",
       "    }\n",
       "</style>\n",
       "<table border=\"1\" class=\"dataframe\">\n",
       "  <thead>\n",
       "    <tr style=\"text-align: right;\">\n",
       "      <th></th>\n",
       "      <th>Sale_ID</th>\n",
       "      <th>Date</th>\n",
       "      <th>Region</th>\n",
       "      <th>Store_ID</th>\n",
       "      <th>Product_ID</th>\n",
       "      <th>Category</th>\n",
       "      <th>Units_Sold</th>\n",
       "      <th>Sales_Amount</th>\n",
       "      <th>Profit</th>\n",
       "    </tr>\n",
       "  </thead>\n",
       "  <tbody>\n",
       "    <tr>\n",
       "      <th>17</th>\n",
       "      <td>S018</td>\n",
       "      <td>2024-02-15</td>\n",
       "      <td>West</td>\n",
       "      <td>ST002</td>\n",
       "      <td>P006</td>\n",
       "      <td>Home Appliance</td>\n",
       "      <td>13</td>\n",
       "      <td>3250</td>\n",
       "      <td>945.00</td>\n",
       "    </tr>\n",
       "    <tr>\n",
       "      <th>19</th>\n",
       "      <td>S020</td>\n",
       "      <td>2024-01-26</td>\n",
       "      <td>West</td>\n",
       "      <td>ST002</td>\n",
       "      <td>P002</td>\n",
       "      <td>Electronics</td>\n",
       "      <td>20</td>\n",
       "      <td>30000</td>\n",
       "      <td>5456.09</td>\n",
       "    </tr>\n",
       "  </tbody>\n",
       "</table>\n",
       "</div>"
      ],
      "text/plain": [
       "   Sale_ID       Date Region Store_ID Product_ID        Category  Units_Sold  \\\n",
       "17    S018 2024-02-15   West    ST002       P006  Home Appliance          13   \n",
       "19    S020 2024-01-26   West    ST002       P002     Electronics          20   \n",
       "\n",
       "    Sales_Amount   Profit  \n",
       "17          3250   945.00  \n",
       "19         30000  5456.09  "
      ]
     },
     "execution_count": 69,
     "metadata": {},
     "output_type": "execute_result"
    }
   ],
   "source": [
    "data3.query(\"Region == 'West' and Sales_Amount >= 3250\")"
   ]
  },
  {
   "cell_type": "code",
   "execution_count": 70,
   "id": "c2f1b951",
   "metadata": {},
   "outputs": [
    {
     "data": {
      "text/html": [
       "<div>\n",
       "<style scoped>\n",
       "    .dataframe tbody tr th:only-of-type {\n",
       "        vertical-align: middle;\n",
       "    }\n",
       "\n",
       "    .dataframe tbody tr th {\n",
       "        vertical-align: top;\n",
       "    }\n",
       "\n",
       "    .dataframe thead th {\n",
       "        text-align: right;\n",
       "    }\n",
       "</style>\n",
       "<table border=\"1\" class=\"dataframe\">\n",
       "  <thead>\n",
       "    <tr style=\"text-align: right;\">\n",
       "      <th></th>\n",
       "      <th>Sale_ID</th>\n",
       "      <th>Date</th>\n",
       "      <th>Region</th>\n",
       "      <th>Store_ID</th>\n",
       "      <th>Product_ID</th>\n",
       "      <th>Category</th>\n",
       "      <th>Units_Sold</th>\n",
       "      <th>Sales_Amount</th>\n",
       "      <th>Profit</th>\n",
       "    </tr>\n",
       "  </thead>\n",
       "  <tbody>\n",
       "    <tr>\n",
       "      <th>0</th>\n",
       "      <td>S001</td>\n",
       "      <td>2024-01-01</td>\n",
       "      <td>North</td>\n",
       "      <td>ST001</td>\n",
       "      <td>P006</td>\n",
       "      <td>Home Appliance</td>\n",
       "      <td>7</td>\n",
       "      <td>1750</td>\n",
       "      <td>399.16</td>\n",
       "    </tr>\n",
       "    <tr>\n",
       "      <th>1</th>\n",
       "      <td>S002</td>\n",
       "      <td>2024-01-28</td>\n",
       "      <td>West</td>\n",
       "      <td>ST002</td>\n",
       "      <td>P009</td>\n",
       "      <td>Clothing</td>\n",
       "      <td>9</td>\n",
       "      <td>900</td>\n",
       "      <td>248.08</td>\n",
       "    </tr>\n",
       "    <tr>\n",
       "      <th>2</th>\n",
       "      <td>S003</td>\n",
       "      <td>2024-04-20</td>\n",
       "      <td>Central</td>\n",
       "      <td>ST005</td>\n",
       "      <td>P007</td>\n",
       "      <td>Furniture</td>\n",
       "      <td>4</td>\n",
       "      <td>20000</td>\n",
       "      <td>5406.52</td>\n",
       "    </tr>\n",
       "    <tr>\n",
       "      <th>3</th>\n",
       "      <td>S004</td>\n",
       "      <td>2024-02-18</td>\n",
       "      <td>South</td>\n",
       "      <td>ST004</td>\n",
       "      <td>P010</td>\n",
       "      <td>Furniture</td>\n",
       "      <td>6</td>\n",
       "      <td>4800</td>\n",
       "      <td>1228.48</td>\n",
       "    </tr>\n",
       "  </tbody>\n",
       "</table>\n",
       "</div>"
      ],
      "text/plain": [
       "  Sale_ID       Date   Region Store_ID Product_ID        Category  Units_Sold  \\\n",
       "0    S001 2024-01-01    North    ST001       P006  Home Appliance           7   \n",
       "1    S002 2024-01-28     West    ST002       P009        Clothing           9   \n",
       "2    S003 2024-04-20  Central    ST005       P007       Furniture           4   \n",
       "3    S004 2024-02-18    South    ST004       P010       Furniture           6   \n",
       "\n",
       "   Sales_Amount   Profit  \n",
       "0          1750   399.16  \n",
       "1           900   248.08  \n",
       "2         20000  5406.52  \n",
       "3          4800  1228.48  "
      ]
     },
     "execution_count": 70,
     "metadata": {},
     "output_type": "execute_result"
    }
   ],
   "source": [
    "data3.head(4)"
   ]
  },
  {
   "cell_type": "code",
   "execution_count": 84,
   "id": "b4b4087b",
   "metadata": {},
   "outputs": [
    {
     "ename": "SyntaxError",
     "evalue": "unexpected character after line continuation character (2822144593.py, line 1)",
     "output_type": "error",
     "traceback": [
      "  \u001b[36mCell\u001b[39m\u001b[36m \u001b[39m\u001b[32mIn[84]\u001b[39m\u001b[32m, line 1\u001b[39m\n\u001b[31m    \u001b[39m\u001b[31mdata3.sort_values( by =  \"Sales_Amount\", ascending = False)  \\\u001b[39m\n                                                                  ^\n\u001b[31mSyntaxError\u001b[39m\u001b[31m:\u001b[39m unexpected character after line continuation character\n"
     ]
    }
   ],
   "source": [
    "data3.sort_values( by =  \"Sales_Amount\", ascending = False)  \\ \n",
    "        .head(2)"
   ]
  },
  {
   "cell_type": "code",
   "execution_count": 83,
   "id": "e1c78931",
   "metadata": {},
   "outputs": [
    {
     "ename": "KeyError",
     "evalue": "'sales_Amount'",
     "output_type": "error",
     "traceback": [
      "\u001b[31m---------------------------------------------------------------------------\u001b[39m",
      "\u001b[31mKeyError\u001b[39m                                  Traceback (most recent call last)",
      "\u001b[32m~\\AppData\\Local\\Temp\\ipykernel_9104\\2328462955.py\u001b[39m in \u001b[36m?\u001b[39m\u001b[34m()\u001b[39m\n\u001b[32m----> \u001b[39m\u001b[32m1\u001b[39m data3.sort_values( by  = \"sales_Amount\" , ascending= True ) \\\n\u001b[32m      2\u001b[39m     .head(\u001b[32m4\u001b[39m)\n",
      "\u001b[32md:\\advance_pyhton\\theroy\\repository2\\repository\\venv\\Lib\\site-packages\\pandas\\core\\frame.py\u001b[39m in \u001b[36m?\u001b[39m\u001b[34m(self, by, axis, ascending, inplace, kind, na_position, ignore_index, key)\u001b[39m\n\u001b[32m   7185\u001b[39m             )\n\u001b[32m   7186\u001b[39m         \u001b[38;5;28;01melif\u001b[39;00m len(by):\n\u001b[32m   7187\u001b[39m             \u001b[38;5;66;03m# len(by) == 1\u001b[39;00m\n\u001b[32m   7188\u001b[39m \n\u001b[32m-> \u001b[39m\u001b[32m7189\u001b[39m             k = self._get_label_or_level_values(by[\u001b[32m0\u001b[39m], axis=axis)\n\u001b[32m   7190\u001b[39m \n\u001b[32m   7191\u001b[39m             \u001b[38;5;66;03m# need to rewrap column in Series to apply key function\u001b[39;00m\n\u001b[32m   7192\u001b[39m             \u001b[38;5;28;01mif\u001b[39;00m key \u001b[38;5;28;01mis\u001b[39;00m \u001b[38;5;28;01mnot\u001b[39;00m \u001b[38;5;28;01mNone\u001b[39;00m:\n",
      "\u001b[32md:\\advance_pyhton\\theroy\\repository2\\repository\\venv\\Lib\\site-packages\\pandas\\core\\generic.py\u001b[39m in \u001b[36m?\u001b[39m\u001b[34m(self, key, axis)\u001b[39m\n\u001b[32m   1907\u001b[39m             values = self.xs(key, axis=other_axes[\u001b[32m0\u001b[39m])._values\n\u001b[32m   1908\u001b[39m         \u001b[38;5;28;01melif\u001b[39;00m self._is_level_reference(key, axis=axis):\n\u001b[32m   1909\u001b[39m             values = self.axes[axis].get_level_values(key)._values\n\u001b[32m   1910\u001b[39m         \u001b[38;5;28;01melse\u001b[39;00m:\n\u001b[32m-> \u001b[39m\u001b[32m1911\u001b[39m             \u001b[38;5;28;01mraise\u001b[39;00m KeyError(key)\n\u001b[32m   1912\u001b[39m \n\u001b[32m   1913\u001b[39m         \u001b[38;5;66;03m# Check for duplicates\u001b[39;00m\n\u001b[32m   1914\u001b[39m         \u001b[38;5;28;01mif\u001b[39;00m values.ndim > \u001b[32m1\u001b[39m:\n",
      "\u001b[31mKeyError\u001b[39m: 'sales_Amount'"
     ]
    }
   ],
   "source": [
    "data3.sort_values( by  = \"sales_Amount\" , ascending= True ) \\\n",
    "    .head(4)"
   ]
  }
 ],
 "metadata": {
  "kernelspec": {
   "display_name": "venv",
   "language": "python",
   "name": "python3"
  },
  "language_info": {
   "codemirror_mode": {
    "name": "ipython",
    "version": 3
   },
   "file_extension": ".py",
   "mimetype": "text/x-python",
   "name": "python",
   "nbconvert_exporter": "python",
   "pygments_lexer": "ipython3",
   "version": "3.13.3"
  }
 },
 "nbformat": 4,
 "nbformat_minor": 5
}
