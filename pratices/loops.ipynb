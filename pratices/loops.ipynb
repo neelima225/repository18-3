{
 "cells": [
  {
   "cell_type": "code",
   "execution_count": 22,
   "id": "b86f212a",
   "metadata": {},
   "outputs": [
    {
     "name": "stdout",
     "output_type": "stream",
     "text": [
      "10\n",
      "11\n",
      "12\n",
      "13\n",
      "14\n",
      "15\n",
      "16\n",
      "17\n",
      "18\n",
      "19\n"
     ]
    }
   ],
   "source": [
    "\n",
    "i = 10\n",
    "while i <20:\n",
    "    print(i)\n",
    "\n",
    "    i= i+1\n",
    "\n"
   ]
  },
  {
   "cell_type": "code",
   "execution_count": 6,
   "id": "f45fc11f",
   "metadata": {},
   "outputs": [
    {
     "name": "stdout",
     "output_type": "stream",
     "text": [
      "20\n",
      "21\n",
      "22\n",
      "23\n",
      "24\n",
      "25\n",
      "26\n",
      "27\n",
      "28\n",
      "29\n",
      "30\n",
      "31\n",
      "32\n",
      "33\n",
      "34\n",
      "35\n",
      "36\n",
      "37\n",
      "38\n",
      "39\n",
      "40\n",
      "41\n",
      "42\n",
      "43\n",
      "44\n",
      "45\n",
      "46\n",
      "47\n",
      "48\n",
      "49\n",
      "50\n"
     ]
    }
   ],
   "source": [
    "j = 20\n",
    "while j >=1:\n",
    "    print(j)\n",
    "    if(j ==50):\n",
    "        break\n",
    "    j +=1"
   ]
  },
  {
   "cell_type": "code",
   "execution_count": 9,
   "id": "76e623c9",
   "metadata": {},
   "outputs": [
    {
     "name": "stdout",
     "output_type": "stream",
     "text": [
      "1\n",
      "2\n",
      "4\n",
      "5\n",
      "6\n",
      "7\n",
      "8\n",
      "9\n",
      "10\n",
      "11\n",
      "condition is worng\n"
     ]
    }
   ],
   "source": [
    "z= 0\n",
    "while z <=10:\n",
    "    z +=1\n",
    "    if z== 3:\n",
    "     continue\n",
    "    print(z)\n",
    "else:\n",
    "   print(\"condition is worng\")\n",
    "\n"
   ]
  },
  {
   "cell_type": "code",
   "execution_count": 10,
   "id": "8c214abc",
   "metadata": {},
   "outputs": [
    {
     "name": "stdout",
     "output_type": "stream",
     "text": [
      "pink\n",
      "yellow\n",
      "red\n",
      "green\n"
     ]
    }
   ],
   "source": [
    "bangles = [\"pink\",\"yellow\",\"red\",\"green\"]\n",
    "for x in bangles:\n",
    "    print(x)\n",
    "  \n",
    "           "
   ]
  },
  {
   "cell_type": "code",
   "execution_count": 11,
   "id": "b4fec2da",
   "metadata": {},
   "outputs": [
    {
     "name": "stdout",
     "output_type": "stream",
     "text": [
      "n\n",
      "e\n",
      "e\n",
      "l\n",
      "i\n",
      "m\n",
      "a\n"
     ]
    }
   ],
   "source": [
    "for y in\"neelima\":\n",
    "    print(y)"
   ]
  },
  {
   "cell_type": "code",
   "execution_count": 19,
   "id": "f186694b",
   "metadata": {},
   "outputs": [
    {
     "name": "stdout",
     "output_type": "stream",
     "text": [
      "c \n",
      "c++\n",
      "java\n"
     ]
    }
   ],
   "source": [
    "subject = [\"c \",\"c++\",\"java\",\"python\"]\n",
    "\n",
    "for x in subject:\n",
    "    print(x)\n",
    "    if x == \"java\":\n",
    "      break\n",
    "    "
   ]
  },
  {
   "cell_type": "code",
   "execution_count": 20,
   "id": "8e0548ce",
   "metadata": {},
   "outputs": [
    {
     "name": "stdout",
     "output_type": "stream",
     "text": [
      "pooja\n",
      "reeva\n"
     ]
    }
   ],
   "source": [
    "name =[\"pooja\",\"reeva\",\"joyti\"]\n",
    "\n",
    "for x in name:\n",
    "    if x == \"joyti\":\n",
    "        break\n",
    "    print(x)\n",
    "       "
   ]
  }
 ],
 "metadata": {
  "kernelspec": {
   "display_name": "venv",
   "language": "python",
   "name": "python3"
  },
  "language_info": {
   "codemirror_mode": {
    "name": "ipython",
    "version": 3
   },
   "file_extension": ".py",
   "mimetype": "text/x-python",
   "name": "python",
   "nbconvert_exporter": "python",
   "pygments_lexer": "ipython3",
   "version": "3.13.2"
  }
 },
 "nbformat": 4,
 "nbformat_minor": 5
}
