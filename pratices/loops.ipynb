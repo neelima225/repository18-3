{
 "cells": [
  {
   "cell_type": "code",
   "execution_count": 22,
   "id": "b86f212a",
   "metadata": {},
   "outputs": [
    {
     "name": "stdout",
     "output_type": "stream",
     "text": [
      "10\n",
      "11\n",
      "12\n",
      "13\n",
      "14\n",
      "15\n",
      "16\n",
      "17\n",
      "18\n",
      "19\n"
     ]
    }
   ],
   "source": [
    "\n",
    "i = 10\n",
    "while i <20:\n",
    "    print(i)\n",
    "\n",
    "    i= i+1\n",
    "\n"
   ]
  },
  {
   "cell_type": "code",
   "execution_count": 6,
   "id": "f45fc11f",
   "metadata": {},
   "outputs": [
    {
     "name": "stdout",
     "output_type": "stream",
     "text": [
      "20\n",
      "21\n",
      "22\n",
      "23\n",
      "24\n",
      "25\n",
      "26\n",
      "27\n",
      "28\n",
      "29\n",
      "30\n",
      "31\n",
      "32\n",
      "33\n",
      "34\n",
      "35\n",
      "36\n",
      "37\n",
      "38\n",
      "39\n",
      "40\n",
      "41\n",
      "42\n",
      "43\n",
      "44\n",
      "45\n",
      "46\n",
      "47\n",
      "48\n",
      "49\n",
      "50\n"
     ]
    }
   ],
   "source": [
    "j = 20\n",
    "while j >=1:\n",
    "    print(j)\n",
    "    if(j ==50):\n",
    "        break\n",
    "    j +=1"
   ]
  },
  {
   "cell_type": "code",
   "execution_count": 9,
   "id": "76e623c9",
   "metadata": {},
   "outputs": [
    {
     "name": "stdout",
     "output_type": "stream",
     "text": [
      "1\n",
      "2\n",
      "4\n",
      "5\n",
      "6\n",
      "7\n",
      "8\n",
      "9\n",
      "10\n",
      "11\n",
      "condition is worng\n"
     ]
    }
   ],
   "source": [
    "z= 0\n",
    "while z <=10:\n",
    "    z +=1\n",
    "    if z== 3:\n",
    "     continue\n",
    "    print(z)\n",
    "else:\n",
    "   print(\"condition is worng\")\n",
    "\n"
   ]
  },
  {
   "cell_type": "code",
   "execution_count": 10,
   "id": "8c214abc",
   "metadata": {},
   "outputs": [
    {
     "name": "stdout",
     "output_type": "stream",
     "text": [
      "pink\n",
      "yellow\n",
      "red\n",
      "green\n"
     ]
    }
   ],
   "source": [
    "bangles = [\"pink\",\"yellow\",\"red\",\"green\"]\n",
    "for x in bangles:\n",
    "    print(x)\n",
    "  \n",
    "           "
   ]
  },
  {
   "cell_type": "code",
   "execution_count": 11,
   "id": "b4fec2da",
   "metadata": {},
   "outputs": [
    {
     "name": "stdout",
     "output_type": "stream",
     "text": [
      "n\n",
      "e\n",
      "e\n",
      "l\n",
      "i\n",
      "m\n",
      "a\n"
     ]
    }
   ],
   "source": [
    "for y in\"neelima\":\n",
    "    print(y)"
   ]
  },
  {
   "cell_type": "code",
   "execution_count": 19,
   "id": "f186694b",
   "metadata": {},
   "outputs": [
    {
     "name": "stdout",
     "output_type": "stream",
     "text": [
      "c \n",
      "c++\n",
      "java\n"
     ]
    }
   ],
   "source": [
    "subject = [\"c \",\"c++\",\"java\",\"python\"]\n",
    "\n",
    "for x in subject:\n",
    "    print(x)\n",
    "    if x == \"java\":\n",
    "      break\n",
    "    "
   ]
  },
  {
   "cell_type": "code",
   "execution_count": 20,
   "id": "8e0548ce",
   "metadata": {},
   "outputs": [
    {
     "name": "stdout",
     "output_type": "stream",
     "text": [
      "pooja\n",
      "reeva\n"
     ]
    }
   ],
   "source": [
    "name =[\"pooja\",\"reeva\",\"joyti\"]\n",
    "\n",
    "for x in name:\n",
    "    if x == \"joyti\":\n",
    "        break\n",
    "    print(x)\n",
    "       "
   ]
  },
  {
   "cell_type": "code",
   "execution_count": 2,
   "id": "b24eacba",
   "metadata": {},
   "outputs": [
    {
     "name": "stdout",
     "output_type": "stream",
     "text": [
      "hello world\n"
     ]
    }
   ],
   "source": [
    "def function1():\n",
    "    print(\"hello world\")\n",
    "\n",
    "\n",
    "\n",
    "function1()    "
   ]
  },
  {
   "cell_type": "code",
   "execution_count": 3,
   "id": "946a3341",
   "metadata": {},
   "outputs": [
    {
     "name": "stdout",
     "output_type": "stream",
     "text": [
      "ravi sharma\n",
      "kavita sharma\n"
     ]
    }
   ],
   "source": [
    "def addname(fname):\n",
    "    print(fname,\"sharma\")\n",
    "\n",
    "addname(\"ravi\")\n",
    "addname(\"kavita\")"
   ]
  },
  {
   "cell_type": "code",
   "execution_count": null,
   "id": "76951592",
   "metadata": {},
   "outputs": [
    {
     "name": "stdout",
     "output_type": "stream",
     "text": [
      "neha204 @email.com\n",
      "sonal20 @email.com\n"
     ]
    }
   ],
   "source": [
    "def email(femail):\n",
    "    print(femail,\"@email.com\")\n",
    "\n",
    "\n",
    "email(\"neha204\")\n",
    "email(\"sonal20\")\n",
    "   "
   ]
  },
  {
   "cell_type": "code",
   "execution_count": 7,
   "id": "0cf81a8f",
   "metadata": {},
   "outputs": [
    {
     "name": "stdout",
     "output_type": "stream",
     "text": [
      "neha soni\n"
     ]
    }
   ],
   "source": [
    "def full_name(fname,sname):\n",
    "    print(fname,sname)\n",
    "full_name(\"neha\", \"soni\")    "
   ]
  },
  {
   "cell_type": "code",
   "execution_count": 29,
   "id": "0009318a",
   "metadata": {},
   "outputs": [
    {
     "name": "stdout",
     "output_type": "stream",
     "text": [
      "student code 501\n"
     ]
    }
   ],
   "source": [
    "def student_code(*code):\n",
    "  print(\"student code \"  +code[1])\n",
    "\n",
    "student_code(\"102\", \"501\", \"852\")\n"
   ]
  },
  {
   "cell_type": "code",
   "execution_count": 2,
   "id": "856cbba6",
   "metadata": {},
   "outputs": [
    {
     "ename": "TypeError",
     "evalue": "bad operand type for unary +: 'str'",
     "output_type": "error",
     "traceback": [
      "\u001b[31m---------------------------------------------------------------------------\u001b[39m",
      "\u001b[31mTypeError\u001b[39m                                 Traceback (most recent call last)",
      "\u001b[36mCell\u001b[39m\u001b[36m \u001b[39m\u001b[32mIn[2]\u001b[39m\u001b[32m, line 4\u001b[39m\n\u001b[32m      1\u001b[39m \u001b[38;5;28;01mdef\u001b[39;00m\u001b[38;5;250m \u001b[39m\u001b[34meach_list\u001b[39m( child1 , child2 ):\n\u001b[32m      2\u001b[39m     \u001b[38;5;28mprint\u001b[39m(\u001b[33m\"\u001b[39m\u001b[33mstudent name\u001b[39m\u001b[33m\"\u001b[39m , + child2)\n\u001b[32m----> \u001b[39m\u001b[32m4\u001b[39m \u001b[43meach_list\u001b[49m\u001b[43m(\u001b[49m\u001b[43m \u001b[49m\u001b[43mchild1\u001b[49m\u001b[43m=\u001b[49m\u001b[43m \u001b[49m\u001b[33;43m\"\u001b[39;49m\u001b[33;43mmegha\u001b[39;49m\u001b[33;43m\"\u001b[39;49m\u001b[43m \u001b[49m\u001b[43m,\u001b[49m\u001b[43m \u001b[49m\u001b[43mchild2\u001b[49m\u001b[43m=\u001b[49m\u001b[43m \u001b[49m\u001b[33;43m\"\u001b[39;49m\u001b[33;43mabhi\u001b[39;49m\u001b[33;43m\"\u001b[39;49m\u001b[43m)\u001b[49m    \n",
      "\u001b[36mCell\u001b[39m\u001b[36m \u001b[39m\u001b[32mIn[2]\u001b[39m\u001b[32m, line 2\u001b[39m, in \u001b[36meach_list\u001b[39m\u001b[34m(child1, child2)\u001b[39m\n\u001b[32m      1\u001b[39m \u001b[38;5;28;01mdef\u001b[39;00m\u001b[38;5;250m \u001b[39m\u001b[34meach_list\u001b[39m( child1 , child2 ):\n\u001b[32m----> \u001b[39m\u001b[32m2\u001b[39m     \u001b[38;5;28mprint\u001b[39m(\u001b[33m\"\u001b[39m\u001b[33mstudent name\u001b[39m\u001b[33m\"\u001b[39m , \u001b[43m+\u001b[49m\u001b[43m \u001b[49m\u001b[43mchild2\u001b[49m)\n",
      "\u001b[31mTypeError\u001b[39m: bad operand type for unary +: 'str'"
     ]
    }
   ],
   "source": [
    "def each_list( child1 , child2 ):\n",
    "    print(\"student name\" , + child2)\n",
    "  \n",
    "each_list( child1= \"megha\" , child2= \"abhi\")    "
   ]
  },
  {
   "cell_type": "code",
   "execution_count": null,
   "id": "19b43bf8",
   "metadata": {},
   "outputs": [
    {
     "name": "stdout",
     "output_type": "stream",
     "text": [
      "['neha', 'ravi', 'ridhima']\n",
      "3\n",
      "<class 'list'>\n"
     ]
    }
   ],
   "source": [
    "list1=[\"neha\",\"ravi\",\"ridhima\"]\n",
    "print(list1)\n",
    "print(len(list1))\n",
    "print(type(list1))\n"
   ]
  },
  {
   "cell_type": "code",
   "execution_count": 6,
   "id": "8c45924b",
   "metadata": {},
   "outputs": [
    {
     "name": "stdout",
     "output_type": "stream",
     "text": [
      "['aadi', True, 401]\n"
     ]
    }
   ],
   "source": [
    "list2=[\"aadi\", True, 401]\n",
    "print(list2)"
   ]
  },
  {
   "cell_type": "code",
   "execution_count": 9,
   "id": "fe173954",
   "metadata": {},
   "outputs": [
    {
     "name": "stdout",
     "output_type": "stream",
     "text": [
      "<class 'list'>\n",
      "['apple', 'bannana', 'apple']\n"
     ]
    }
   ],
   "source": [
    "mycontrctor=list((\"apple\",\"bannana\",\"apple\"))\n",
    "print(type(mycontrctor))\n",
    "print(mycontrctor)"
   ]
  },
  {
   "cell_type": "code",
   "execution_count": 21,
   "id": "1fcf5072",
   "metadata": {},
   "outputs": [
    {
     "name": "stdout",
     "output_type": "stream",
     "text": [
      "yes , math present\n",
      "['math', 'science', 'bio', 'commerece', 'math', 'bio']\n",
      "['bio', 'commerece', 'math']\n",
      "['bio', 'commerece', 'math']\n"
     ]
    }
   ],
   "source": [
    "list4 = [\"math\",\"science\",\"bio\",\"commerece\",\"math\",\"bio\"]\n",
    "if \"math\" in list4:\n",
    "    print(\"yes , math present\")\n",
    "print(list4[0:])\n",
    "print(list4[-4:-1])\n",
    "print(list4[2:5])\n"
   ]
  },
  {
   "cell_type": "code",
   "execution_count": 26,
   "id": "a6b33ca4",
   "metadata": {},
   "outputs": [
    {
     "name": "stdout",
     "output_type": "stream",
     "text": [
      "['pink', 'yellow', 'orange', 'green', 'bobypink']\n",
      "['rani', 'yellow', 'orange', 'green', 'bobypink', 'blue', 'silver']\n",
      "['rani', 'purple', 'light green', 'bobypink', 'blue', 'silver']\n",
      "6\n",
      "['rani', 'purple', 'rama', 'mengenta']\n"
     ]
    }
   ],
   "source": [
    "list5=[\"pink\",\"yellow\",\"orange\",\"green\",\"bobypink\",\"blue\",\"silver\"]\n",
    "print(list5[0:5])\n",
    "list5[0] =\"rani\"\n",
    "print(list5)\n",
    "list5[1:4]=(\"purple\",\"light green\")\n",
    "print(list5)\n",
    "print(len(list5))\n",
    "list5[2:6]=(\"rama\",\"mengenta\")\n",
    "print(list5)"
   ]
  },
  {
   "cell_type": "code",
   "execution_count": 30,
   "id": "020a4ed2",
   "metadata": {},
   "outputs": [
    {
     "name": "stdout",
     "output_type": "stream",
     "text": [
      "['rani', 'purple', 'rama', 'mengenta', 'yellow']\n",
      "['rani', 'purple', 'skyblue', 'rama', 'mengenta', 'yellow', 'yellow']\n"
     ]
    }
   ],
   "source": [
    "print(list5)\n",
    "list5.append(\"yellow\")\n",
    "list5.insert(2,\"skyblue\")\n",
    "print(list5)"
   ]
  },
  {
   "cell_type": "code",
   "execution_count": 36,
   "id": "1b316d86",
   "metadata": {},
   "outputs": [
    {
     "name": "stdout",
     "output_type": "stream",
     "text": [
      "['rani', 'skyblue', 'mengenta', 'yellow', 'yellow', 'mustrad', 'brown', 'mustrad', 'brown', 'mustrad', 'brown', 'mustrad', 'brown', 'mustrad', 'brown', 'mustrad']\n"
     ]
    }
   ],
   "source": [
    "tuple1=(\"brown\",\"mustrad\")\n",
    "list5.extend(tuple1)\n",
    "list5.remove(\"brown\")\n",
    "print(list5)\n"
   ]
  },
  {
   "cell_type": "code",
   "execution_count": 40,
   "id": "4a1710e4",
   "metadata": {},
   "outputs": [
    {
     "name": "stdout",
     "output_type": "stream",
     "text": [
      "['aa', 'cc', 'hh']\n",
      "['aa', 'cc']\n",
      "[]\n"
     ]
    }
   ],
   "source": [
    "list6=[\"aa\",\"bb\",\"cc\",\"hh\"]\n",
    "list6.pop(1)\n",
    "print(list6)\n",
    "del list6[2]\n",
    "print(list6)\n",
    "list6.clear()\n",
    "print(list6)"
   ]
  },
  {
   "cell_type": "code",
   "execution_count": null,
   "id": "89401b05",
   "metadata": {},
   "outputs": [
    {
     "name": "stdout",
     "output_type": "stream",
     "text": [
      "{'brand': 'ford', 'price': 1002023, 'year': 2010}\n"
     ]
    }
   ],
   "source": [
    "dict1 = {\n",
    "    \"brand\": \"ford\",\n",
    "    \"price\": 1002023,\n",
    "    \"year\" : 2010\n",
    "}\n",
    "print(dict1)\n"
   ]
  },
  {
   "cell_type": "code",
   "execution_count": 3,
   "id": "6de609d6",
   "metadata": {},
   "outputs": [
    {
     "name": "stdout",
     "output_type": "stream",
     "text": [
      "2\n"
     ]
    }
   ],
   "source": [
    "dic2 = dict(name =\"neelima\", age =34)\n",
    "print(len(dic2))"
   ]
  },
  {
   "cell_type": "markdown",
   "id": "6ee2ae39",
   "metadata": {},
   "source": [
    "### list compression "
   ]
  },
  {
   "cell_type": "code",
   "execution_count": 1,
   "id": "8cde8794",
   "metadata": {},
   "outputs": [
    {
     "name": "stdout",
     "output_type": "stream",
     "text": [
      "[1, 4, 9, 16, 25]\n"
     ]
    }
   ],
   "source": [
    "square = [x**2 for x in range(1,6) ]\n",
    "print(square)"
   ]
  },
  {
   "cell_type": "code",
   "execution_count": 3,
   "id": "dacbe6d8",
   "metadata": {},
   "outputs": [
    {
     "name": "stdout",
     "output_type": "stream",
     "text": [
      "[0, 2, 4, 6, 8]\n"
     ]
    }
   ],
   "source": [
    "even = [x for x in range(10) if x% 2 ==0]\n",
    "print(even)"
   ]
  },
  {
   "cell_type": "code",
   "execution_count": 4,
   "id": "398e22ea",
   "metadata": {},
   "outputs": [
    {
     "name": "stdout",
     "output_type": "stream",
     "text": [
      "['POWER', 'PYTHON']\n"
     ]
    }
   ],
   "source": [
    "words =[\"power\",\"python\"]\n",
    "upper = [w.upper() for w in words ]\n",
    "print(upper)"
   ]
  },
  {
   "cell_type": "code",
   "execution_count": 6,
   "id": "9ea3483f",
   "metadata": {},
   "outputs": [
    {
     "name": "stdout",
     "output_type": "stream",
     "text": [
      "['PYTHON', 'POWER']\n"
     ]
    }
   ],
   "source": [
    "word1 =[\"PYTHON\", \"POWER\"]\n",
    "lowercase = [w.lower() for w in word1]\n",
    "print(word1)"
   ]
  },
  {
   "cell_type": "code",
   "execution_count": 7,
   "id": "e7f8c7c4",
   "metadata": {},
   "outputs": [
    {
     "name": "stdout",
     "output_type": "stream",
     "text": [
      "[[1, 2], [3, 4], [5, 6]]\n"
     ]
    }
   ],
   "source": [
    "matrix =[[1,2],[3,4],[5,6]]\n",
    "flatterend =[num for row in matrix for num in row]\n",
    "print(matrix)"
   ]
  },
  {
   "cell_type": "code",
   "execution_count": null,
   "id": "aa60d14a",
   "metadata": {},
   "outputs": [],
   "source": []
  }
 ],
 "metadata": {
  "kernelspec": {
   "display_name": "venv",
   "language": "python",
   "name": "python3"
  },
  "language_info": {
   "codemirror_mode": {
    "name": "ipython",
    "version": 3
   },
   "file_extension": ".py",
   "mimetype": "text/x-python",
   "name": "python",
   "nbconvert_exporter": "python",
   "pygments_lexer": "ipython3",
   "version": "3.13.2"
  }
 },
 "nbformat": 4,
 "nbformat_minor": 5
}
