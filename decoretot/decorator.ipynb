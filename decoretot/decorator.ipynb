{
 "cells": [
  {
   "cell_type": "code",
   "execution_count": 1,
   "metadata": {},
   "outputs": [],
   "source": [
    "def welcome(func):\n",
    "    def wrapper(*args , **kwargs):\n",
    "       print(f\"welcome:\")\n",
    "       r = func(*args ,**kwargs)   \n",
    "       print(f\"fucntion decorator :{r}\")\n",
    "       print(f\"thanku \")\n",
    "    return wrapper       \n"
   ]
  },
  {
   "cell_type": "code",
   "execution_count": 2,
   "metadata": {},
   "outputs": [],
   "source": [
    "@welcome\n",
    "def Radius(r):\n",
    "    rad = r*r\n",
    "\n",
    "    return rad\n",
    "    "
   ]
  },
  {
   "cell_type": "code",
   "execution_count": 3,
   "metadata": {},
   "outputs": [
    {
     "name": "stdout",
     "output_type": "stream",
     "text": [
      "welcome:\n",
      "fucntion decorator :4\n",
      "thanku \n"
     ]
    }
   ],
   "source": [
    "r1 = Radius(r=2)"
   ]
  },
  {
   "cell_type": "code",
   "execution_count": 4,
   "metadata": {},
   "outputs": [],
   "source": [
    "@welcome\n",
    "def triangle(a,b,c):\n",
    "    d = a*b*c\n",
    "    return d"
   ]
  },
  {
   "cell_type": "code",
   "execution_count": 5,
   "metadata": {},
   "outputs": [
    {
     "name": "stdout",
     "output_type": "stream",
     "text": [
      "welcome:\n",
      "fucntion decorator :6000\n",
      "thanku \n"
     ]
    }
   ],
   "source": [
    "t1= triangle(a=20, b=10, c=30)"
   ]
  },
  {
   "cell_type": "code",
   "execution_count": 11,
   "metadata": {},
   "outputs": [],
   "source": [
    "import time"
   ]
  },
  {
   "cell_type": "code",
   "execution_count": 12,
   "metadata": {},
   "outputs": [
    {
     "name": "stdout",
     "output_type": "stream",
     "text": [
      "hello\n",
      "night\n",
      "time slapped : 8.003 sec\n"
     ]
    }
   ],
   "source": [
    "start = time.perf_counter()\n",
    "\n",
    "time.sleep(5)\n",
    "print(\"hello\")\n",
    "time.sleep(3)\n",
    "print(\"night\")\n",
    "\n",
    "stop =time.perf_counter()\n",
    "elappsed = stop- start\n",
    "print(f\"time slapped : {elappsed:.3f} sec\")\n"
   ]
  },
  {
   "cell_type": "code",
   "execution_count": 1,
   "metadata": {},
   "outputs": [],
   "source": [
    "def time(func):\n",
    "    def wrapper(*args ,**kwargs):\n",
    "       \n",
    "        start= time.perf_counter\n",
    "       \n",
    "        r2 = func(*args ,**kwargs)\n",
    "        print(f\"time decorator: {r2}\")\n",
    "        stop =time.perf_counter()\n",
    "        elapp = stop -start\n",
    "        print(f\"function showing :{elapp:2f} sec\")   \n",
    "   \n",
    "        return r2\n",
    "    \n",
    "    return wrapper"
   ]
  },
  {
   "cell_type": "code",
   "execution_count": 2,
   "metadata": {},
   "outputs": [],
   "source": [
    "@time\n",
    "def add(a ,b):\n",
    "    c = a+b\n",
    "    return c"
   ]
  },
  {
   "cell_type": "code",
   "execution_count": null,
   "metadata": {},
   "outputs": [
    {
     "ename": "AttributeError",
     "evalue": "'function' object has no attribute 'perf_counter'",
     "output_type": "error",
     "traceback": [
      "\u001b[31m---------------------------------------------------------------------------\u001b[39m",
      "\u001b[31mAttributeError\u001b[39m                            Traceback (most recent call last)",
      "\u001b[36mCell\u001b[39m\u001b[36m \u001b[39m\u001b[32mIn[5]\u001b[39m\u001b[32m, line 1\u001b[39m\n\u001b[32m----> \u001b[39m\u001b[32m1\u001b[39m a2 = \u001b[43madd\u001b[49m\u001b[43m(\u001b[49m\u001b[32;43m10\u001b[39;49m\u001b[43m,\u001b[49m\u001b[32;43m20\u001b[39;49m\u001b[43m)\u001b[49m\n\u001b[32m      2\u001b[39m a2\n",
      "\u001b[36mCell\u001b[39m\u001b[36m \u001b[39m\u001b[32mIn[1]\u001b[39m\u001b[32m, line 4\u001b[39m, in \u001b[36mtime.<locals>.wrapper\u001b[39m\u001b[34m(*args, **kwargs)\u001b[39m\n\u001b[32m      2\u001b[39m \u001b[38;5;28;01mdef\u001b[39;00m\u001b[38;5;250m \u001b[39m\u001b[34mwrapper\u001b[39m(*args ,**kwargs):\n\u001b[32m----> \u001b[39m\u001b[32m4\u001b[39m     start= \u001b[43mtime\u001b[49m\u001b[43m.\u001b[49m\u001b[43mperf_counter\u001b[49m\n\u001b[32m      6\u001b[39m     r2 = func(*args ,**kwargs)\n\u001b[32m      7\u001b[39m     \u001b[38;5;28mprint\u001b[39m(\u001b[33mf\u001b[39m\u001b[33m\"\u001b[39m\u001b[33mtime decorator: \u001b[39m\u001b[38;5;132;01m{\u001b[39;00mr2\u001b[38;5;132;01m}\u001b[39;00m\u001b[33m\"\u001b[39m)\n",
      "\u001b[31mAttributeError\u001b[39m: 'function' object has no attribute 'perf_counter'"
     ]
    }
   ],
   "source": [
    "a2 = add(10,20)`hh`\n",
    "a2\n"
   ]
  },
  {
   "cell_type": "code",
   "execution_count": null,
   "metadata": {},
   "outputs": [],
   "source": []
  }
 ],
 "metadata": {
  "kernelspec": {
   "display_name": "venv",
   "language": "python",
   "name": "python3"
  },
  "language_info": {
   "codemirror_mode": {
    "name": "ipython",
    "version": 3
   },
   "file_extension": ".py",
   "mimetype": "text/x-python",
   "name": "python",
   "nbconvert_exporter": "python",
   "pygments_lexer": "ipython3",
   "version": "3.13.2"
  }
 },
 "nbformat": 4,
 "nbformat_minor": 2
}
