{
 "cells": [
  {
   "cell_type": "code",
   "execution_count": 21,
   "metadata": {},
   "outputs": [],
   "source": [
    "def welcome(func):\n",
    "    def wrapper(*args , **kwargs):\n",
    "       print(f\"welcome:\")\n",
    "       r = func(*args ,**kwargs)   \n",
    "       print(f\"fucntion decorator :{r}\")\n",
    "       print(f\"thanku \")\n",
    "    return wrapper       \n"
   ]
  },
  {
   "cell_type": "code",
   "execution_count": 22,
   "metadata": {},
   "outputs": [],
   "source": [
    "@welcome\n",
    "def Radius(r):\n",
    "    rad = r*r\n",
    "\n",
    "    return rad\n",
    "    "
   ]
  },
  {
   "cell_type": "code",
   "execution_count": 23,
   "metadata": {},
   "outputs": [
    {
     "name": "stdout",
     "output_type": "stream",
     "text": [
      "welcome:\n",
      "fucntion decorator :4\n",
      "thanku \n"
     ]
    }
   ],
   "source": [
    "r1 = Radius(r=2)"
   ]
  },
  {
   "cell_type": "code",
   "execution_count": 24,
   "metadata": {},
   "outputs": [],
   "source": [
    "@welcome\n",
    "def triangle(a,b,c):\n",
    "    d = a*b*c\n",
    "    return d"
   ]
  },
  {
   "cell_type": "code",
   "execution_count": 25,
   "metadata": {},
   "outputs": [
    {
     "name": "stdout",
     "output_type": "stream",
     "text": [
      "welcome:\n",
      "fucntion decorator :6000\n",
      "thanku \n"
     ]
    }
   ],
   "source": [
    "t1= triangle(a=20, b=10, c=30)"
   ]
  },
  {
   "cell_type": "code",
   "execution_count": 26,
   "metadata": {},
   "outputs": [],
   "source": [
    "import time"
   ]
  },
  {
   "cell_type": "code",
   "execution_count": 27,
   "metadata": {},
   "outputs": [
    {
     "name": "stdout",
     "output_type": "stream",
     "text": [
      "hello\n",
      "night\n",
      "time slapped : 8.005 sec\n"
     ]
    }
   ],
   "source": [
    "start = time.perf_counter()\n",
    "\n",
    "time.sleep(5)\n",
    "print(\"hello\")\n",
    "time.sleep(3)\n",
    "print(\"night\")\n",
    "\n",
    "stop =time.perf_counter()\n",
    "elappsed = stop- start\n",
    "print(f\"time slapped : {elappsed:.3f} sec\")\n"
   ]
  },
  {
   "cell_type": "code",
   "execution_count": 28,
   "metadata": {},
   "outputs": [],
   "source": [
    "def time(func):\n",
    "    def wrapper(*args ,**kwargs):\n",
    "       \n",
    "        start= time.perf_counter\n",
    "       \n",
    "        r2 = func(*args ,**kwargs)\n",
    "        print(f\"time decorator: {r2}\")\n",
    "        stop =time.perf_counter()\n",
    "        elapp = stop -start\n",
    "        print(f\"function showing :{elapp:2f} sec\")   \n",
    "   \n",
    "        return r2\n",
    "    \n",
    "    return wrapper"
   ]
  },
  {
   "cell_type": "code",
   "execution_count": 29,
   "metadata": {},
   "outputs": [],
   "source": [
    "@time\n",
    "def add(a ,b):\n",
    "    c = a+b\n",
    "    return c"
   ]
  },
  {
   "cell_type": "code",
   "execution_count": 1,
   "metadata": {},
   "outputs": [],
   "source": [
    "if __name__==\"_main_\":\n",
    "    c1= add(10, 20)\n",
    "    print(c1)\n"
   ]
  },
  {
   "cell_type": "code",
   "execution_count": 4,
   "metadata": {},
   "outputs": [],
   "source": [
    "def decocator(func):\n",
    "   def  wrapper():\n",
    "    print(\"before fuction\")\n",
    "    func()\n",
    "    print(\"after function\")\n",
    "    return wrapper\n"
   ]
  },
  {
   "cell_type": "code",
   "execution_count": 6,
   "metadata": {},
   "outputs": [],
   "source": [
    "@decocator\n",
    "def say():\n",
    "    print(\"hello\")\n",
    "    say()"
   ]
  },
  {
   "cell_type": "code",
   "execution_count": 8,
   "metadata": {},
   "outputs": [],
   "source": [
    "def decorator(func):\n",
    "    def wrapper(*args, **kwargs):\n",
    "        print(\"welcome to add two no\")\n",
    "        addition= func(*args, **kwargs)\n",
    "        print(\"result here\")\n",
    "    return wrapper\n",
    "        "
   ]
  },
  {
   "cell_type": "code",
   "execution_count": null,
   "metadata": {},
   "outputs": [],
   "source": [
    "@decocator\n",
    "def add(a,b):\n",
    "    c=a+b"
   ]
  },
  {
   "cell_type": "code",
   "execution_count": 10,
   "metadata": {},
   "outputs": [],
   "source": [
    "def func():\n",
    "    print(\"hello goodmorning\")"
   ]
  },
  {
   "cell_type": "code",
   "execution_count": 11,
   "metadata": {},
   "outputs": [
    {
     "name": "stdout",
     "output_type": "stream",
     "text": [
      "hello goodmorning\n"
     ]
    }
   ],
   "source": [
    "func()"
   ]
  },
  {
   "cell_type": "code",
   "execution_count": 13,
   "metadata": {},
   "outputs": [
    {
     "name": "stdout",
     "output_type": "stream",
     "text": [
      "11\n"
     ]
    }
   ],
   "source": [
    "def add(a,b):\n",
    "    return a+b\n",
    "c= add(5,6)\n",
    "print(c) \n"
   ]
  },
  {
   "cell_type": "code",
   "execution_count": null,
   "metadata": {},
   "outputs": [
    {
     "name": "stdout",
     "output_type": "stream",
     "text": [
      "hello good after\n"
     ]
    }
   ],
   "source": [
    "def func1():\n",
    "    print(\"hello good after\")\n",
    "func1()\n"
   ]
  }
 ],
 "metadata": {
  "kernelspec": {
   "display_name": "venv",
   "language": "python",
   "name": "python3"
  },
  "language_info": {
   "codemirror_mode": {
    "name": "ipython",
    "version": 3
   },
   "file_extension": ".py",
   "mimetype": "text/x-python",
   "name": "python",
   "nbconvert_exporter": "python",
   "pygments_lexer": "ipython3",
   "version": "3.13.2"
  }
 },
 "nbformat": 4,
 "nbformat_minor": 2
}
