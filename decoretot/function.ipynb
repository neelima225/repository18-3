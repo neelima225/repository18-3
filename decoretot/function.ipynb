{
 "cells": [
  {
   "cell_type": "code",
   "execution_count": 2,
   "id": "acdf210b",
   "metadata": {},
   "outputs": [
    {
     "name": "stdout",
     "output_type": "stream",
     "text": [
      "10\n"
     ]
    }
   ],
   "source": [
    "def minus(a,b):\n",
    "    return(a-b)\n",
    "result=minus(20,10)\n",
    "print(result)    \n",
    "    "
   ]
  },
  {
   "cell_type": "code",
   "execution_count": 3,
   "id": "ae9532a9",
   "metadata": {},
   "outputs": [],
   "source": [
    "def tran():\n",
    "    print(\"sayo nara\")"
   ]
  },
  {
   "cell_type": "code",
   "execution_count": null,
   "id": "e294e222",
   "metadata": {},
   "outputs": [
    {
     "name": "stdout",
     "output_type": "stream",
     "text": [
      "sayo nara\n"
     ]
    }
   ],
   "source": [
    "tran()\n"
   ]
  },
  {
   "cell_type": "code",
   "execution_count": null,
   "id": "a67a8055",
   "metadata": {},
   "outputs": [],
   "source": [
    "def decorator2(func):\n",
    "    def wrapper(*args, **kwargs):\n",
    "    print(\"welcome\")\n",
    "    result=func(*args ,**kwargs)\n",
    "    print(\"end\")\n",
    "    return result()"
   ]
  },
  {
   "cell_type": "code",
   "execution_count": null,
   "id": "01f6b6d6",
   "metadata": {},
   "outputs": [],
   "source": [
    "class car:\n",
    "    def __init__(self, brand, prize):\n",
    "       self.brand = brand\n",
    "       self.prize = prize\n",
    "\n",
    "    def drive(self):\n",
    "      print(f\"{self.brand} {self.prize} is drive\")\n",
    "    \n",
    "    car1= drive(\"honda\", 30000)\n",
    "    car2 = drive (\"\") "
   ]
  },
  {
   "cell_type": "code",
   "execution_count": 2,
   "id": "6098dde8",
   "metadata": {},
   "outputs": [
    {
     "name": "stdout",
     "output_type": "stream",
     "text": [
      "30\n"
     ]
    }
   ],
   "source": [
    "def fun(x,y):\n",
    "    return(x+y)\n",
    "\n",
    "res=fun(10,20)\n",
    "print(res) "
   ]
  }
 ],
 "metadata": {
  "kernelspec": {
   "display_name": "venv",
   "language": "python",
   "name": "python3"
  },
  "language_info": {
   "codemirror_mode": {
    "name": "ipython",
    "version": 3
   },
   "file_extension": ".py",
   "mimetype": "text/x-python",
   "name": "python",
   "nbconvert_exporter": "python",
   "pygments_lexer": "ipython3",
   "version": "3.13.2"
  }
 },
 "nbformat": 4,
 "nbformat_minor": 5
}
