{
 "cells": [
  {
   "cell_type": "code",
   "execution_count": 1,
   "id": "3ed65867",
   "metadata": {},
   "outputs": [
    {
     "name": "stdout",
     "output_type": "stream",
     "text": [
      "100\n"
     ]
    }
   ],
   "source": [
    "mulit = lambda x : x *x \n",
    "print(mulit(10))\n",
    "\n",
    "   "
   ]
  },
  {
   "cell_type": "code",
   "execution_count": 3,
   "id": "f806195a",
   "metadata": {},
   "outputs": [
    {
     "name": "stdout",
     "output_type": "stream",
     "text": [
      "hello neelima\n"
     ]
    }
   ],
   "source": [
    "def greet(name):\n",
    "   print(\"hello\",name)\n",
    "\n",
    "greet(\"neelima\")\n"
   ]
  },
  {
   "cell_type": "code",
   "execution_count": 4,
   "id": "80f51a2c",
   "metadata": {},
   "outputs": [
    {
     "name": "stdout",
     "output_type": "stream",
     "text": [
      "neelima code 10203\n"
     ]
    }
   ],
   "source": [
    "def data(student_code):\n",
    "    print(\"neelima code\",student_code)\n",
    "data(\"10203\")    "
   ]
  },
  {
   "cell_type": "code",
   "execution_count": 6,
   "id": "8fcbc61b",
   "metadata": {},
   "outputs": [
    {
     "name": "stdout",
     "output_type": "stream",
     "text": [
      "30\n"
     ]
    }
   ],
   "source": [
    "def add(a,b):\n",
    "    return a+b\n",
    "\n",
    "res= add(10,20)\n",
    "print(res)"
   ]
  },
  {
   "cell_type": "code",
   "execution_count": null,
   "id": "cdbc4c29",
   "metadata": {},
   "outputs": [
    {
     "name": "stdout",
     "output_type": "stream",
     "text": [
      "10 20 30\n"
     ]
    }
   ],
   "source": [
    "def augument(*args):\n",
    "    print(args)\n",
    "\n",
    "augument(10,20,30)    "
   ]
  },
  {
   "cell_type": "code",
   "execution_count": 12,
   "id": "29f49ff5",
   "metadata": {},
   "outputs": [
    {
     "name": "stdout",
     "output_type": "stream",
     "text": [
      "{'name': 'neelima', 'code': 101}\n"
     ]
    }
   ],
   "source": [
    "def argument(**kwargs):\n",
    "    print(kwargs)\n",
    "argument(name =\"neelima\", code =101)    "
   ]
  }
 ],
 "metadata": {
  "kernelspec": {
   "display_name": "venv",
   "language": "python",
   "name": "python3"
  },
  "language_info": {
   "codemirror_mode": {
    "name": "ipython",
    "version": 3
   },
   "file_extension": ".py",
   "mimetype": "text/x-python",
   "name": "python",
   "nbconvert_exporter": "python",
   "pygments_lexer": "ipython3",
   "version": "3.13.7"
  }
 },
 "nbformat": 4,
 "nbformat_minor": 5
}
