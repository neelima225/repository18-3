{
 "cells": [
  {
   "cell_type": "code",
   "execution_count": 1,
   "id": "3ed65867",
   "metadata": {},
   "outputs": [
    {
     "name": "stdout",
     "output_type": "stream",
     "text": [
      "100\n"
     ]
    }
   ],
   "source": [
    "mulit = lambda x : x *x \n",
    "print(mulit(10))\n",
    "\n",
    "   "
   ]
  },
  {
   "cell_type": "code",
   "execution_count": 3,
   "id": "f806195a",
   "metadata": {},
   "outputs": [
    {
     "name": "stdout",
     "output_type": "stream",
     "text": [
      "hello neelima\n"
     ]
    }
   ],
   "source": [
    "def greet(name):\n",
    "   print(\"hello\",name)\n",
    "\n",
    "greet(\"neelima\")\n"
   ]
  },
  {
   "cell_type": "code",
   "execution_count": 4,
   "id": "80f51a2c",
   "metadata": {},
   "outputs": [
    {
     "name": "stdout",
     "output_type": "stream",
     "text": [
      "neelima code 10203\n"
     ]
    }
   ],
   "source": [
    "def data(student_code):\n",
    "    print(\"neelima code\",student_code)\n",
    "data(\"10203\")    "
   ]
  },
  {
   "cell_type": "code",
   "execution_count": 6,
   "id": "8fcbc61b",
   "metadata": {},
   "outputs": [
    {
     "name": "stdout",
     "output_type": "stream",
     "text": [
      "30\n"
     ]
    }
   ],
   "source": [
    "def add(a,b):\n",
    "    return a+b\n",
    "\n",
    "res= add(10,20)\n",
    "print(res)"
   ]
  },
  {
   "cell_type": "code",
   "execution_count": null,
   "id": "cdbc4c29",
   "metadata": {},
   "outputs": [
    {
     "name": "stdout",
     "output_type": "stream",
     "text": [
      "10 20 30\n"
     ]
    }
   ],
   "source": [
    "def augument(*args):\n",
    "    print(args)\n",
    "\n",
    "augument(10,20,30)    "
   ]
  },
  {
   "cell_type": "code",
   "execution_count": 12,
   "id": "29f49ff5",
   "metadata": {},
   "outputs": [
    {
     "name": "stdout",
     "output_type": "stream",
     "text": [
      "{'name': 'neelima', 'code': 101}\n"
     ]
    }
   ],
   "source": [
    "def argument(**kwargs):\n",
    "    print(kwargs)\n",
    "argument(name =\"neelima\", code =101)    "
   ]
  },
  {
   "cell_type": "code",
   "execution_count": 2,
   "id": "703c6438",
   "metadata": {},
   "outputs": [],
   "source": [
    "def data_office(func):\n",
    " def wrapper(*args,**kwargs):\n",
    "    print(f\"admistrator\")\n",
    "    data2=func(args,kwargs)\n",
    "    print(f\"data complete\")\n",
    "    return  data2\n",
    " \n",
    " return wrapper\n",
    " \n",
    "   \n",
    "\n",
    "\n",
    "   "
   ]
  },
  {
   "cell_type": "code",
   "execution_count": 3,
   "id": "a8cf2cbb",
   "metadata": {},
   "outputs": [
    {
     "ename": "NameError",
     "evalue": "name 'data_office' is not defined",
     "output_type": "error",
     "traceback": [
      "\u001b[31m---------------------------------------------------------------------------\u001b[39m",
      "\u001b[31mNameError\u001b[39m                                 Traceback (most recent call last)",
      "\u001b[36mCell\u001b[39m\u001b[36m \u001b[39m\u001b[32mIn[3]\u001b[39m\u001b[32m, line 1\u001b[39m\n\u001b[32m----> \u001b[39m\u001b[32m1\u001b[39m \u001b[38;5;129m@data_office\u001b[39m\n\u001b[32m      2\u001b[39m \u001b[38;5;28;01mdef\u001b[39;00m\u001b[38;5;250m \u001b[39m\u001b[34mstudent\u001b[39m(name):\n\u001b[32m      3\u001b[39m   \u001b[38;5;28mprint\u001b[39m(\u001b[33m\"\u001b[39m\u001b[33mrecord1\u001b[39m\u001b[33m\"\u001b[39m,name)\n\u001b[32m      5\u001b[39m s1.student  \n",
      "\u001b[31mNameError\u001b[39m: name 'data_office' is not defined"
     ]
    }
   ],
   "source": [
    "@data_office\n",
    "def student(name):\n",
    "  print(\"record1\",name)\n",
    "\n",
    "s1.student  "
   ]
  }
 ],
 "metadata": {
  "kernelspec": {
   "display_name": "venv",
   "language": "python",
   "name": "python3"
  },
  "language_info": {
   "codemirror_mode": {
    "name": "ipython",
    "version": 3
   },
   "file_extension": ".py",
   "mimetype": "text/x-python",
   "name": "python",
   "nbconvert_exporter": "python",
   "pygments_lexer": "ipython3",
   "version": "3.13.7"
  }
 },
 "nbformat": 4,
 "nbformat_minor": 5
}
