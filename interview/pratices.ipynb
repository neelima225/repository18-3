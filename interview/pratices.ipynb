{
 "cells": [
  {
   "cell_type": "code",
   "execution_count": 5,
   "id": "bcacf308",
   "metadata": {},
   "outputs": [
    {
     "name": "stdout",
     "output_type": "stream",
     "text": [
      "['nehal', 102, 'mba']\n"
     ]
    }
   ],
   "source": [
    "student = [\"nehal\",102,\"mba\"]\n",
    "print(student)"
   ]
  },
  {
   "cell_type": "code",
   "execution_count": 14,
   "id": "70661b3e",
   "metadata": {},
   "outputs": [
    {
     "ename": "IndexError",
     "evalue": "list assignment index out of range",
     "output_type": "error",
     "traceback": [
      "\u001b[31m---------------------------------------------------------------------------\u001b[39m",
      "\u001b[31mIndexError\u001b[39m                                Traceback (most recent call last)",
      "\u001b[36mCell\u001b[39m\u001b[36m \u001b[39m\u001b[32mIn[14]\u001b[39m\u001b[32m, line 1\u001b[39m\n\u001b[32m----> \u001b[39m\u001b[32m1\u001b[39m \u001b[43mstudent\u001b[49m\u001b[43m[\u001b[49m\u001b[32;43m0\u001b[39;49m\u001b[43m]\u001b[49m=\u001b[33m\"\u001b[39m\u001b[33mkaya\u001b[39m\u001b[33m\"\u001b[39m\n\u001b[32m      2\u001b[39m \u001b[38;5;28mprint\u001b[39m(student)\n\u001b[32m      3\u001b[39m student.pop(\u001b[32m0\u001b[39m)\n",
      "\u001b[31mIndexError\u001b[39m: list assignment index out of range"
     ]
    }
   ],
   "source": [
    "\n",
    "student[0]=\"kaya\"\n",
    "print(student)\n",
    "student.pop(0)\n",
    "print(student)\n",
    "student[0:2]\n",
    "student.append(60)"
   ]
  },
  {
   "cell_type": "code",
   "execution_count": 7,
   "id": "968bf3a8",
   "metadata": {},
   "outputs": [
    {
     "data": {
      "text/plain": [
       "dict"
      ]
     },
     "execution_count": 7,
     "metadata": {},
     "output_type": "execute_result"
    }
   ],
   "source": [
    "frame1 ={\n",
    "\"name\" :[\"pooja\",\"riya\"],\n",
    " \"city\"  : [\"satna\",\"jabalpur\"],\n",
    " \"pin\" :[1020,2031]\n",
    "}\n",
    "type(frame1)"
   ]
  },
  {
   "cell_type": "code",
   "execution_count": 8,
   "id": "98bb1b31",
   "metadata": {},
   "outputs": [],
   "source": [
    "import pandas as pd"
   ]
  },
  {
   "cell_type": "code",
   "execution_count": 10,
   "id": "f3653fb3",
   "metadata": {},
   "outputs": [],
   "source": [
    "data1 =pd.DataFrame(frame1)\n"
   ]
  },
  {
   "cell_type": "code",
   "execution_count": 11,
   "id": "56318713",
   "metadata": {},
   "outputs": [
    {
     "data": {
      "text/html": [
       "<div>\n",
       "<style scoped>\n",
       "    .dataframe tbody tr th:only-of-type {\n",
       "        vertical-align: middle;\n",
       "    }\n",
       "\n",
       "    .dataframe tbody tr th {\n",
       "        vertical-align: top;\n",
       "    }\n",
       "\n",
       "    .dataframe thead th {\n",
       "        text-align: right;\n",
       "    }\n",
       "</style>\n",
       "<table border=\"1\" class=\"dataframe\">\n",
       "  <thead>\n",
       "    <tr style=\"text-align: right;\">\n",
       "      <th></th>\n",
       "      <th>name</th>\n",
       "      <th>city</th>\n",
       "      <th>pin</th>\n",
       "    </tr>\n",
       "  </thead>\n",
       "  <tbody>\n",
       "    <tr>\n",
       "      <th>0</th>\n",
       "      <td>pooja</td>\n",
       "      <td>satna</td>\n",
       "      <td>1020</td>\n",
       "    </tr>\n",
       "    <tr>\n",
       "      <th>1</th>\n",
       "      <td>riya</td>\n",
       "      <td>jabalpur</td>\n",
       "      <td>2031</td>\n",
       "    </tr>\n",
       "  </tbody>\n",
       "</table>\n",
       "</div>"
      ],
      "text/plain": [
       "    name      city   pin\n",
       "0  pooja     satna  1020\n",
       "1   riya  jabalpur  2031"
      ]
     },
     "execution_count": 11,
     "metadata": {},
     "output_type": "execute_result"
    }
   ],
   "source": [
    "data1"
   ]
  },
  {
   "cell_type": "code",
   "execution_count": 13,
   "id": "dcc1bb3f",
   "metadata": {},
   "outputs": [],
   "source": [
    "index1 =[\"r1\",\"r2\"]"
   ]
  },
  {
   "cell_type": "code",
   "execution_count": 15,
   "id": "397c8017",
   "metadata": {},
   "outputs": [
    {
     "data": {
      "text/html": [
       "<div>\n",
       "<style scoped>\n",
       "    .dataframe tbody tr th:only-of-type {\n",
       "        vertical-align: middle;\n",
       "    }\n",
       "\n",
       "    .dataframe tbody tr th {\n",
       "        vertical-align: top;\n",
       "    }\n",
       "\n",
       "    .dataframe thead th {\n",
       "        text-align: right;\n",
       "    }\n",
       "</style>\n",
       "<table border=\"1\" class=\"dataframe\">\n",
       "  <thead>\n",
       "    <tr style=\"text-align: right;\">\n",
       "      <th></th>\n",
       "      <th>name</th>\n",
       "      <th>city</th>\n",
       "      <th>pin</th>\n",
       "    </tr>\n",
       "  </thead>\n",
       "  <tbody>\n",
       "    <tr>\n",
       "      <th>r1</th>\n",
       "      <td>pooja</td>\n",
       "      <td>satna</td>\n",
       "      <td>1020</td>\n",
       "    </tr>\n",
       "    <tr>\n",
       "      <th>r2</th>\n",
       "      <td>riya</td>\n",
       "      <td>jabalpur</td>\n",
       "      <td>2031</td>\n",
       "    </tr>\n",
       "  </tbody>\n",
       "</table>\n",
       "</div>"
      ],
      "text/plain": [
       "     name      city   pin\n",
       "r1  pooja     satna  1020\n",
       "r2   riya  jabalpur  2031"
      ]
     },
     "execution_count": 15,
     "metadata": {},
     "output_type": "execute_result"
    }
   ],
   "source": [
    "data2 = pd.DataFrame(frame1,index = index1)\n",
    "data2"
   ]
  },
  {
   "cell_type": "code",
   "execution_count": 16,
   "id": "8937c59b",
   "metadata": {},
   "outputs": [
    {
     "data": {
      "text/plain": [
       "Index(['r1', 'r2'], dtype='object')"
      ]
     },
     "execution_count": 16,
     "metadata": {},
     "output_type": "execute_result"
    }
   ],
   "source": [
    "data2.index"
   ]
  },
  {
   "cell_type": "code",
   "execution_count": 20,
   "id": "d953adec",
   "metadata": {},
   "outputs": [
    {
     "data": {
      "text/plain": [
       "Index(['name', 'city', 'pin'], dtype='object')"
      ]
     },
     "execution_count": 20,
     "metadata": {},
     "output_type": "execute_result"
    }
   ],
   "source": [
    "data2.columns\n"
   ]
  },
  {
   "cell_type": "code",
   "execution_count": 21,
   "id": "7057dc3c",
   "metadata": {},
   "outputs": [
    {
     "data": {
      "text/plain": [
       "(2, 3)"
      ]
     },
     "execution_count": 21,
     "metadata": {},
     "output_type": "execute_result"
    }
   ],
   "source": [
    "data2.shape"
   ]
  },
  {
   "cell_type": "code",
   "execution_count": 22,
   "id": "9db0b29a",
   "metadata": {},
   "outputs": [
    {
     "data": {
      "text/plain": [
       "array([['pooja', 'satna', 1020],\n",
       "       ['riya', 'jabalpur', 2031]], dtype=object)"
      ]
     },
     "execution_count": 22,
     "metadata": {},
     "output_type": "execute_result"
    }
   ],
   "source": [
    "data2.values"
   ]
  },
  {
   "cell_type": "code",
   "execution_count": 23,
   "id": "a0f54bce",
   "metadata": {},
   "outputs": [
    {
     "data": {
      "text/plain": [
       "name    object\n",
       "city    object\n",
       "pin      int64\n",
       "dtype: object"
      ]
     },
     "execution_count": 23,
     "metadata": {},
     "output_type": "execute_result"
    }
   ],
   "source": [
    "data2.dtypes"
   ]
  },
  {
   "cell_type": "code",
   "execution_count": 24,
   "id": "56c0ba8e",
   "metadata": {},
   "outputs": [],
   "source": [
    "l1= [\"set1\",\"set2\"]\n",
    "l2=[\"rohan\",\"aadi\"]"
   ]
  },
  {
   "cell_type": "code",
   "execution_count": 27,
   "id": "6fc7cd62",
   "metadata": {},
   "outputs": [
    {
     "data": {
      "text/html": [
       "<div>\n",
       "<style scoped>\n",
       "    .dataframe tbody tr th:only-of-type {\n",
       "        vertical-align: middle;\n",
       "    }\n",
       "\n",
       "    .dataframe tbody tr th {\n",
       "        vertical-align: top;\n",
       "    }\n",
       "\n",
       "    .dataframe thead th {\n",
       "        text-align: right;\n",
       "    }\n",
       "</style>\n",
       "<table border=\"1\" class=\"dataframe\">\n",
       "  <thead>\n",
       "    <tr style=\"text-align: right;\">\n",
       "      <th></th>\n",
       "      <th>0</th>\n",
       "    </tr>\n",
       "  </thead>\n",
       "  <tbody>\n",
       "    <tr>\n",
       "      <th>set1</th>\n",
       "      <td>rohan</td>\n",
       "    </tr>\n",
       "    <tr>\n",
       "      <th>set2</th>\n",
       "      <td>aadi</td>\n",
       "    </tr>\n",
       "  </tbody>\n",
       "</table>\n",
       "</div>"
      ],
      "text/plain": [
       "          0\n",
       "set1  rohan\n",
       "set2   aadi"
      ]
     },
     "execution_count": 27,
     "metadata": {},
     "output_type": "execute_result"
    }
   ],
   "source": [
    "frame2 =pd.DataFrame(l2,l1)\n",
    "frame2"
   ]
  },
  {
   "cell_type": "code",
   "execution_count": 28,
   "id": "c233f333",
   "metadata": {},
   "outputs": [],
   "source": [
    "index2 =[\"row1\",\"row2\"]\n"
   ]
  },
  {
   "cell_type": "code",
   "execution_count": 29,
   "id": "67ee39de",
   "metadata": {},
   "outputs": [
    {
     "data": {
      "text/html": [
       "<div>\n",
       "<style scoped>\n",
       "    .dataframe tbody tr th:only-of-type {\n",
       "        vertical-align: middle;\n",
       "    }\n",
       "\n",
       "    .dataframe tbody tr th {\n",
       "        vertical-align: top;\n",
       "    }\n",
       "\n",
       "    .dataframe thead th {\n",
       "        text-align: right;\n",
       "    }\n",
       "</style>\n",
       "<table border=\"1\" class=\"dataframe\">\n",
       "  <thead>\n",
       "    <tr style=\"text-align: right;\">\n",
       "      <th></th>\n",
       "      <th>0</th>\n",
       "    </tr>\n",
       "  </thead>\n",
       "  <tbody>\n",
       "    <tr>\n",
       "      <th>row1</th>\n",
       "      <td>NaN</td>\n",
       "    </tr>\n",
       "    <tr>\n",
       "      <th>row2</th>\n",
       "      <td>NaN</td>\n",
       "    </tr>\n",
       "  </tbody>\n",
       "</table>\n",
       "</div>"
      ],
      "text/plain": [
       "        0\n",
       "row1  NaN\n",
       "row2  NaN"
      ]
     },
     "execution_count": 29,
     "metadata": {},
     "output_type": "execute_result"
    }
   ],
   "source": [
    "data3 = pd .DataFrame(frame2 ,index= index2)\n",
    "data3"
   ]
  },
  {
   "cell_type": "code",
   "execution_count": 31,
   "id": "a28eb4d9",
   "metadata": {},
   "outputs": [
    {
     "data": {
      "text/plain": [
       "list"
      ]
     },
     "execution_count": 31,
     "metadata": {},
     "output_type": "execute_result"
    }
   ],
   "source": [
    "array1=[10,20,30]\n",
    "type(array1)"
   ]
  },
  {
   "cell_type": "code",
   "execution_count": 32,
   "id": "c18447b1",
   "metadata": {},
   "outputs": [],
   "source": [
    "import numpy as np"
   ]
  },
  {
   "cell_type": "code",
   "execution_count": 34,
   "id": "4aa1854f",
   "metadata": {},
   "outputs": [
    {
     "data": {
      "text/plain": [
       "array([10, 20, 30])"
      ]
     },
     "execution_count": 34,
     "metadata": {},
     "output_type": "execute_result"
    }
   ],
   "source": [
    "array2=np.array(array1)\n",
    "array2"
   ]
  },
  {
   "cell_type": "code",
   "execution_count": 38,
   "id": "b8542bd7",
   "metadata": {},
   "outputs": [
    {
     "data": {
      "text/plain": [
       "array([[20, 40, 60],\n",
       "       [50, 40, 60]])"
      ]
     },
     "execution_count": 38,
     "metadata": {},
     "output_type": "execute_result"
    }
   ],
   "source": [
    "array3= [[20,40,60],\n",
    "         [50,40,60]]\n",
    "type(array3)\n",
    "array4= np.array(array3)\n",
    "array4"
   ]
  },
  {
   "cell_type": "code",
   "execution_count": 39,
   "id": "a531eec1",
   "metadata": {},
   "outputs": [
    {
     "name": "stdout",
     "output_type": "stream",
     "text": [
      "10\n",
      "20\n",
      "50\n"
     ]
    }
   ],
   "source": [
    "array5=[10,20,50]\n",
    "for i in array5:\n",
    "    print(i)"
   ]
  },
  {
   "cell_type": "code",
   "execution_count": 45,
   "id": "36f7f059",
   "metadata": {},
   "outputs": [
    {
     "data": {
      "text/plain": [
       "np.float64(26.666666666666668)"
      ]
     },
     "execution_count": 45,
     "metadata": {},
     "output_type": "execute_result"
    }
   ],
   "source": [
    "np.sum(array5)\n",
    "np.median(array5)\n",
    "np.mean(array5)"
   ]
  },
  {
   "cell_type": "code",
   "execution_count": 46,
   "id": "41d8fae6",
   "metadata": {},
   "outputs": [],
   "source": [
    "def school(func):\n",
    " def wrapper(*args,**kwargs):\n",
    "     print(f\"welcome to school\")\n",
    "     s1 = func(*args,**kwargs)\n",
    "     print(f\"print functiom:{s1}\")\n",
    "     print(f\"admission complete\")\n",
    " return wrapper\n"
   ]
  },
  {
   "cell_type": "code",
   "execution_count": 52,
   "id": "e435df31",
   "metadata": {},
   "outputs": [
    {
     "name": "stdout",
     "output_type": "stream",
     "text": [
      "welcome to school\n",
      "admission done\n",
      "print functiom:None\n",
      "admission complete\n"
     ]
    }
   ],
   "source": [
    "@school\n",
    "def student():\n",
    "    print(\"admission done\")\n",
    "\n",
    "student()"
   ]
  },
  {
   "cell_type": "code",
   "execution_count": 53,
   "id": "ed81d442",
   "metadata": {},
   "outputs": [
    {
     "name": "stdout",
     "output_type": "stream",
     "text": [
      "welcome to school\n",
      "print functiom:8\n",
      "admission complete\n",
      "None\n"
     ]
    }
   ],
   "source": [
    "@school\n",
    "\n",
    "def add(a,b):\n",
    "    return a+b\n",
    "print(add(3,5))"
   ]
  },
  {
   "cell_type": "code",
   "execution_count": 54,
   "id": "2418114f",
   "metadata": {},
   "outputs": [],
   "source": [
    "class car:\n",
    "    def __init__(self,brand,model):\n",
    "\n",
    "     self.brand = brand\n",
    "     self.model = model\n",
    "\n",
    "    def drive(self):\n",
    "        print(f\"{self.brand},{self.model}\")   "
   ]
  },
  {
   "cell_type": "code",
   "execution_count": 55,
   "id": "a16114c6",
   "metadata": {},
   "outputs": [
    {
     "data": {
      "text/plain": [
       "<__main__.car at 0x22eb2526900>"
      ]
     },
     "execution_count": 55,
     "metadata": {},
     "output_type": "execute_result"
    }
   ],
   "source": [
    "c = car(brand =\"exter\", model= \"ex102\")\n",
    "c"
   ]
  },
  {
   "cell_type": "code",
   "execution_count": 56,
   "id": "64bb4c0f",
   "metadata": {},
   "outputs": [
    {
     "data": {
      "text/plain": [
       "__main__.car"
      ]
     },
     "execution_count": 56,
     "metadata": {},
     "output_type": "execute_result"
    }
   ],
   "source": [
    "type(c)"
   ]
  },
  {
   "cell_type": "code",
   "execution_count": 58,
   "id": "24a3a265",
   "metadata": {},
   "outputs": [
    {
     "data": {
      "text/plain": [
       "'ex102'"
      ]
     },
     "execution_count": 58,
     "metadata": {},
     "output_type": "execute_result"
    }
   ],
   "source": [
    "c.model"
   ]
  },
  {
   "cell_type": "code",
   "execution_count": 60,
   "id": "bbe90066",
   "metadata": {},
   "outputs": [
    {
     "name": "stdout",
     "output_type": "stream",
     "text": [
      "exter,ex102\n"
     ]
    }
   ],
   "source": [
    "c.drive()"
   ]
  },
  {
   "cell_type": "code",
   "execution_count": null,
   "id": "fbbe5de2",
   "metadata": {},
   "outputs": [
    {
     "ename": "IndentationError",
     "evalue": "unindent does not match any outer indentation level (<string>, line 13)",
     "output_type": "error",
     "traceback": [
      "  \u001b[36mFile \u001b[39m\u001b[32m<string>:13\u001b[39m\n\u001b[31m    \u001b[39m\u001b[31macc = Bank(1500)\u001b[39m\n                    ^\n\u001b[31mIndentationError\u001b[39m\u001b[31m:\u001b[39m unindent does not match any outer indentation level\n"
     ]
    }
   ],
   "source": [
    "class Bank:\n",
    "    def __init__(self,balance,amount):\n",
    "        \n",
    "        self.balance= balance\n",
    "\n",
    "    def deposite(self,amount):\n",
    "        self.balance+=amount  \n",
    "\n",
    "    def get_bal(self)   : \n",
    "        return self.balance\n",
    "\n",
    "\n",
    " acc = Bank (1500)\n",
    " acc.deposite(500)\n",
    " print(acc.get_bal())\n",
    "\n",
    "\n",
    "        "
   ]
  },
  {
   "cell_type": "code",
   "execution_count": 2,
   "id": "4057d7bc",
   "metadata": {},
   "outputs": [
    {
     "ename": "IndentationError",
     "evalue": "unindent does not match any outer indentation level (<string>, line 8)",
     "output_type": "error",
     "traceback": [
      "  \u001b[36mFile \u001b[39m\u001b[32m<string>:8\u001b[39m\n\u001b[31m    \u001b[39m\u001b[31mdog = Dog ()\u001b[39m\n                ^\n\u001b[31mIndentationError\u001b[39m\u001b[31m:\u001b[39m unindent does not match any outer indentation level\n"
     ]
    }
   ],
   "source": [
    "class Animal:\n",
    "    def sound():\n",
    "      print(\"some sound\")\n",
    "\n",
    "    def Dog(Animal):\n",
    "        def sound(self):\n",
    "          print(\"bark\")\n",
    " dog = Dog ()\n",
    "dog.sound()"
   ]
  },
  {
   "cell_type": "markdown",
   "id": "79783159",
   "metadata": {},
   "source": [
    "### lambda function\n"
   ]
  },
  {
   "cell_type": "markdown",
   "id": "efd63575",
   "metadata": {},
   "source": [
    "###lambda function"
   ]
  },
  {
   "cell_type": "markdown",
   "id": "71253c42",
   "metadata": {},
   "source": [
    "lambda function\n"
   ]
  },
  {
   "cell_type": "code",
   "execution_count": 3,
   "id": "9d0d9b68",
   "metadata": {},
   "outputs": [],
   "source": [
    "##lambda function"
   ]
  },
  {
   "cell_type": "code",
   "execution_count": 8,
   "id": "2cb5b253",
   "metadata": {},
   "outputs": [
    {
     "name": "stdout",
     "output_type": "stream",
     "text": [
      "25\n"
     ]
    }
   ],
   "source": [
    "square  = lambda x :x * x\n",
    "\n",
    "print(square(5))"
   ]
  },
  {
   "cell_type": "code",
   "execution_count": 9,
   "id": "fa07cab8",
   "metadata": {},
   "outputs": [
    {
     "name": "stdout",
     "output_type": "stream",
     "text": [
      "7\n"
     ]
    }
   ],
   "source": [
    "add = lambda a,b : a + b \n",
    "\n",
    "print(add(5,2))"
   ]
  },
  {
   "cell_type": "code",
   "execution_count": 11,
   "id": "dd7478de",
   "metadata": {},
   "outputs": [
    {
     "name": "stdout",
     "output_type": "stream",
     "text": [
      "hello mam how u neelima\n"
     ]
    }
   ],
   "source": [
    "def hello(name):\n",
    "    print(\"hello mam how u\",name)\n",
    "\n",
    "hello(\"neelima\")    "
   ]
  }
 ],
 "metadata": {
  "kernelspec": {
   "display_name": "venv",
   "language": "python",
   "name": "python3"
  },
  "language_info": {
   "codemirror_mode": {
    "name": "ipython",
    "version": 3
   },
   "file_extension": ".py",
   "mimetype": "text/x-python",
   "name": "python",
   "nbconvert_exporter": "python",
   "pygments_lexer": "ipython3",
   "version": "3.13.2"
  }
 },
 "nbformat": 4,
 "nbformat_minor": 5
}
